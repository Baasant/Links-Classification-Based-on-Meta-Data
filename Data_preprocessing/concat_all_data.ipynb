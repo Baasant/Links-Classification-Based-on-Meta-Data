{
  "nbformat": 4,
  "nbformat_minor": 0,
  "metadata": {
    "colab": {
      "name": "Copy of concat_all_data.ipynb",
      "provenance": []
    },
    "kernelspec": {
      "name": "python3",
      "display_name": "Python 3"
    },
    "language_info": {
      "name": "python"
    }
  },
  "cells": [
    {
      "cell_type": "code",
      "metadata": {
        "colab": {
          "base_uri": "https://localhost:8080/"
        },
        "id": "Fp28v02mKPMZ",
        "outputId": "2cb532c1-b658-426d-cbed-a278b8b06aaf"
      },
      "source": [
        "from google.colab import drive\n",
        "drive.mount('/content/gdrive')"
      ],
      "execution_count": null,
      "outputs": [
        {
          "output_type": "stream",
          "name": "stdout",
          "text": [
            "Mounted at /content/gdrive\n"
          ]
        }
      ]
    },
    {
      "cell_type": "code",
      "metadata": {
        "id": "Qe2f8JlpNJzF"
      },
      "source": [
        "import numpy as np\n",
        "import pandas as pd"
      ],
      "execution_count": null,
      "outputs": []
    },
    {
      "cell_type": "code",
      "metadata": {
        "colab": {
          "base_uri": "https://localhost:8080/"
        },
        "id": "ecfK8088KPjD",
        "outputId": "d08678c8-efde-4f23-d080-c3e9699ddb60"
      },
      "source": [
        "BOW_alt_content_names=pd.read_csv('/content/gdrive/MyDrive/features/BOW_alt_content_names.csv')\n",
        "BOW_alt_content_names.shape"
      ],
      "execution_count": null,
      "outputs": [
        {
          "output_type": "execute_result",
          "data": {
            "text/plain": [
              "(7140, 112)"
            ]
          },
          "metadata": {},
          "execution_count": 10
        }
      ]
    },
    {
      "cell_type": "code",
      "metadata": {
        "colab": {
          "base_uri": "https://localhost:8080/"
        },
        "id": "cuKcvIdKNdmv",
        "outputId": "9ee2abe0-49e2-4ec6-cd6c-c9264ae73aef"
      },
      "source": [
        "BOW_campaign_name=pd.read_csv('/content/gdrive/MyDrive/features/BOW_campaign_name.csv')\n",
        "BOW_campaign_name.shape"
      ],
      "execution_count": null,
      "outputs": [
        {
          "output_type": "execute_result",
          "data": {
            "text/plain": [
              "(7140, 87)"
            ]
          },
          "metadata": {},
          "execution_count": 11
        }
      ]
    },
    {
      "cell_type": "code",
      "metadata": {
        "colab": {
          "base_uri": "https://localhost:8080/"
        },
        "id": "sXf4eU2ZNoIf",
        "outputId": "6a429de3-4519-4196-d082-cf1d3e1f6783"
      },
      "source": [
        "BOW_content_name=pd.read_csv('/content/gdrive/MyDrive/features/BOW_content_name.csv')\n",
        "BOW_content_name.shape"
      ],
      "execution_count": null,
      "outputs": [
        {
          "output_type": "execute_result",
          "data": {
            "text/plain": [
              "(7140, 67)"
            ]
          },
          "metadata": {},
          "execution_count": 12
        }
      ]
    },
    {
      "cell_type": "code",
      "metadata": {
        "colab": {
          "base_uri": "https://localhost:8080/"
        },
        "id": "7QQZ8w-2NvQJ",
        "outputId": "f17ad653-004c-4a1d-ab95-a389ae970b78"
      },
      "source": [
        "BOW_link_domain_name=pd.read_csv('/content/gdrive/MyDrive/features/BOW_link_domain_name.csv')\n",
        "BOW_link_domain_name.shape"
      ],
      "execution_count": null,
      "outputs": [
        {
          "output_type": "execute_result",
          "data": {
            "text/plain": [
              "(7140, 1918)"
            ]
          },
          "metadata": {},
          "execution_count": 13
        }
      ]
    },
    {
      "cell_type": "code",
      "metadata": {
        "colab": {
          "base_uri": "https://localhost:8080/"
        },
        "id": "lQD2rrebN4Xv",
        "outputId": "9f30d49d-a55c-44d5-9ea9-36161b3ae069"
      },
      "source": [
        "norm_url_feature=pd.read_csv('/content/gdrive/MyDrive/features/norm_url_feature.csv')\n",
        "norm_url_feature.shape"
      ],
      "execution_count": null,
      "outputs": [
        {
          "output_type": "execute_result",
          "data": {
            "text/plain": [
              "(7140, 13)"
            ]
          },
          "metadata": {},
          "execution_count": 14
        }
      ]
    },
    {
      "cell_type": "code",
      "metadata": {
        "colab": {
          "base_uri": "https://localhost:8080/"
        },
        "id": "dZqn-6-wOEL5",
        "outputId": "5119c981-5262-468c-ff21-782a7dec7228"
      },
      "source": [
        "normalized_numerical_data=pd.read_csv('/content/gdrive/MyDrive/features/normalized_numerical_data.csv')\n",
        "normalized_numerical_data.shape"
      ],
      "execution_count": null,
      "outputs": [
        {
          "output_type": "execute_result",
          "data": {
            "text/plain": [
              "(7140, 2)"
            ]
          },
          "metadata": {},
          "execution_count": 15
        }
      ]
    },
    {
      "cell_type": "code",
      "metadata": {
        "colab": {
          "base_uri": "https://localhost:8080/"
        },
        "id": "XyBCZt0qOTUu",
        "outputId": "22b48d88-d62a-4d2a-9f22-29392f5649cf"
      },
      "source": [
        "path=pd.read_csv('/content/gdrive/MyDrive/features/path.csv')\n",
        "path.shape"
      ],
      "execution_count": null,
      "outputs": [
        {
          "output_type": "execute_result",
          "data": {
            "text/plain": [
              "(7140, 1)"
            ]
          },
          "metadata": {},
          "execution_count": 23
        }
      ]
    },
    {
      "cell_type": "code",
      "metadata": {
        "id": "vAgSgwA6KGk7"
      },
      "source": [
        "pdList = [BOW_alt_content_names, BOW_campaign_name,BOW_content_name,BOW_link_domain_name,norm_url_feature,normalized_numerical_data,path]  # List of your dataframes\n",
        "new_df = pd.concat(pdList, axis=1)"
      ],
      "execution_count": null,
      "outputs": []
    },
    {
      "cell_type": "code",
      "metadata": {
        "colab": {
          "base_uri": "https://localhost:8080/"
        },
        "id": "wsJLRup_QzXD",
        "outputId": "9204d9d9-a74e-4d91-dce9-d5af044d11ea"
      },
      "source": [
        "new_df.shape"
      ],
      "execution_count": null,
      "outputs": [
        {
          "output_type": "execute_result",
          "data": {
            "text/plain": [
              "(7140, 2200)"
            ]
          },
          "metadata": {},
          "execution_count": 25
        }
      ]
    },
    {
      "cell_type": "code",
      "metadata": {
        "id": "o6o0-IU2SIxs"
      },
      "source": [
        "new_df.to_csv(\"features_data.csv\",index=False)"
      ],
      "execution_count": null,
      "outputs": []
    }
  ]
}