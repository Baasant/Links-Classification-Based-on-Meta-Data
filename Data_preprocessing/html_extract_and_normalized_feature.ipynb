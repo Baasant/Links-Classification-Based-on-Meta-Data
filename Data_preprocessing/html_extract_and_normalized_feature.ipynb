{
  "nbformat": 4,
  "nbformat_minor": 0,
  "metadata": {
    "colab": {
      "name": "Copy of html_extract_and_normalized_feature.ipynb",
      "provenance": []
    },
    "kernelspec": {
      "name": "python3",
      "display_name": "Python 3"
    },
    "language_info": {
      "name": "python"
    }
  },
  "cells": [
    {
      "cell_type": "code",
      "metadata": {
        "colab": {
          "base_uri": "https://localhost:8080/"
        },
        "id": "qTta2xWCm8oV",
        "outputId": "b0adeb8b-16cc-491b-9db8-f7edc133dbac"
      },
      "source": [
        "from google.colab import drive\n",
        "drive.mount('/content/gdrive')"
      ],
      "execution_count": null,
      "outputs": [
        {
          "output_type": "stream",
          "name": "stdout",
          "text": [
            "Mounted at /content/gdrive\n"
          ]
        }
      ]
    },
    {
      "cell_type": "code",
      "metadata": {
        "id": "MooVegyMnLh6"
      },
      "source": [
        "import numpy as np\n",
        "import pandas as pd\n",
        "import whois\n",
        "import datetime\n",
        "from os.path import splitext\n",
        "import tldextract\n",
        "from urllib.parse import urlparse"
      ],
      "execution_count": null,
      "outputs": []
    },
    {
      "cell_type": "code",
      "metadata": {
        "id": "b8JfP1WmnNf-"
      },
      "source": [
        "data = pd.read_csv('/content/gdrive/MyDrive/normalized_data.csv')"
      ],
      "execution_count": null,
      "outputs": []
    },
    {
      "cell_type": "code",
      "metadata": {
        "id": "5lHfOA4HnPpi"
      },
      "source": [
        "#get html data alone\n",
        "page_source_path_data =data.filter(['page_source_path'],axis=1)\n"
      ],
      "execution_count": null,
      "outputs": []
    },
    {
      "cell_type": "code",
      "metadata": {
        "colab": {
          "base_uri": "https://localhost:8080/",
          "height": 206
        },
        "id": "UwjT8w6BnTq5",
        "outputId": "5869cae7-1bf6-4798-99e2-ea607c64d17d"
      },
      "source": [
        "page_source_path_data.head()"
      ],
      "execution_count": null,
      "outputs": [
        {
          "output_type": "execute_result",
          "data": {
            "text/html": [
              "<div>\n",
              "<style scoped>\n",
              "    .dataframe tbody tr th:only-of-type {\n",
              "        vertical-align: middle;\n",
              "    }\n",
              "\n",
              "    .dataframe tbody tr th {\n",
              "        vertical-align: top;\n",
              "    }\n",
              "\n",
              "    .dataframe thead th {\n",
              "        text-align: right;\n",
              "    }\n",
              "</style>\n",
              "<table border=\"1\" class=\"dataframe\">\n",
              "  <thead>\n",
              "    <tr style=\"text-align: right;\">\n",
              "      <th></th>\n",
              "      <th>page_source_path</th>\n",
              "    </tr>\n",
              "  </thead>\n",
              "  <tbody>\n",
              "    <tr>\n",
              "      <th>0</th>\n",
              "      <td>doms/a068feac8d33e1d11379987dfef4beefd0a6e1ef....</td>\n",
              "    </tr>\n",
              "    <tr>\n",
              "      <th>1</th>\n",
              "      <td>doms/030946acbb0c3257000915fa36f98b34cc1ed349....</td>\n",
              "    </tr>\n",
              "    <tr>\n",
              "      <th>2</th>\n",
              "      <td>doms/e1cbb7a8f40068d13bf16392618497138318e14b....</td>\n",
              "    </tr>\n",
              "    <tr>\n",
              "      <th>3</th>\n",
              "      <td>doms/26a072b1a330967cbae92c49c343b3a91f1ecf91....</td>\n",
              "    </tr>\n",
              "    <tr>\n",
              "      <th>4</th>\n",
              "      <td>doms/b04bdd3cbd554d838cbe63b94ecddefff170399e....</td>\n",
              "    </tr>\n",
              "  </tbody>\n",
              "</table>\n",
              "</div>"
            ],
            "text/plain": [
              "                                    page_source_path\n",
              "0  doms/a068feac8d33e1d11379987dfef4beefd0a6e1ef....\n",
              "1  doms/030946acbb0c3257000915fa36f98b34cc1ed349....\n",
              "2  doms/e1cbb7a8f40068d13bf16392618497138318e14b....\n",
              "3  doms/26a072b1a330967cbae92c49c343b3a91f1ecf91....\n",
              "4  doms/b04bdd3cbd554d838cbe63b94ecddefff170399e...."
            ]
          },
          "metadata": {},
          "execution_count": 6
        }
      ]
    },
    {
      "cell_type": "code",
      "metadata": {
        "colab": {
          "base_uri": "https://localhost:8080/"
        },
        "id": "1irzRwfTnXFi",
        "outputId": "806a0780-6105-4a6c-8853-e11275152c97"
      },
      "source": [
        "len(page_source_path_data)"
      ],
      "execution_count": null,
      "outputs": [
        {
          "output_type": "execute_result",
          "data": {
            "text/plain": [
              "7140"
            ]
          },
          "metadata": {},
          "execution_count": 7
        }
      ]
    },
    {
      "cell_type": "code",
      "metadata": {
        "colab": {
          "base_uri": "https://localhost:8080/"
        },
        "id": "UwD-wkl4nX-p",
        "outputId": "4d19d17c-c023-4529-ad25-6ac1b1934ecb"
      },
      "source": [
        "!pip install python-whois"
      ],
      "execution_count": null,
      "outputs": [
        {
          "output_type": "stream",
          "name": "stdout",
          "text": [
            "Collecting python-whois\n",
            "  Downloading python-whois-0.7.3.tar.gz (91 kB)\n",
            "\u001b[?25l\r\u001b[K     |███▋                            | 10 kB 21.1 MB/s eta 0:00:01\r\u001b[K     |███████▏                        | 20 kB 25.4 MB/s eta 0:00:01\r\u001b[K     |██████████▊                     | 30 kB 29.5 MB/s eta 0:00:01\r\u001b[K     |██████████████▎                 | 40 kB 30.6 MB/s eta 0:00:01\r\u001b[K     |██████████████████              | 51 kB 33.5 MB/s eta 0:00:01\r\u001b[K     |█████████████████████▌          | 61 kB 31.3 MB/s eta 0:00:01\r\u001b[K     |█████████████████████████       | 71 kB 29.9 MB/s eta 0:00:01\r\u001b[K     |████████████████████████████▋   | 81 kB 31.1 MB/s eta 0:00:01\r\u001b[K     |████████████████████████████████| 91 kB 7.8 MB/s \n",
            "\u001b[?25hRequirement already satisfied: future in /usr/local/lib/python3.7/dist-packages (from python-whois) (0.16.0)\n",
            "Building wheels for collected packages: python-whois\n",
            "  Building wheel for python-whois (setup.py) ... \u001b[?25l\u001b[?25hdone\n",
            "  Created wheel for python-whois: filename=python_whois-0.7.3-py3-none-any.whl size=87721 sha256=b8a21729e32080a8505b795e9dbaa4c5e679f4cbb5fc5f040e118f4d13630070\n",
            "  Stored in directory: /root/.cache/pip/wheels/11/05/f7/895ce5a73665f77c8274a7d55e34fb3e6b4abbb9a7637e215b\n",
            "Successfully built python-whois\n",
            "Installing collected packages: python-whois\n",
            "Successfully installed python-whois-0.7.3\n"
          ]
        }
      ]
    },
    {
      "cell_type": "code",
      "metadata": {
        "colab": {
          "base_uri": "https://localhost:8080/"
        },
        "id": "zzfdsX3_nbWz",
        "outputId": "695a4012-3588-4b74-9d5e-7a9004e2c39f"
      },
      "source": [
        "!pip install tldextract"
      ],
      "execution_count": null,
      "outputs": [
        {
          "output_type": "stream",
          "name": "stdout",
          "text": [
            "Collecting tldextract\n",
            "  Downloading tldextract-3.1.2-py2.py3-none-any.whl (87 kB)\n",
            "\u001b[?25l\r\u001b[K     |███▊                            | 10 kB 19.6 MB/s eta 0:00:01\r\u001b[K     |███████▌                        | 20 kB 25.4 MB/s eta 0:00:01\r\u001b[K     |███████████▎                    | 30 kB 28.7 MB/s eta 0:00:01\r\u001b[K     |███████████████                 | 40 kB 30.3 MB/s eta 0:00:01\r\u001b[K     |██████████████████▉             | 51 kB 32.1 MB/s eta 0:00:01\r\u001b[K     |██████████████████████▋         | 61 kB 31.4 MB/s eta 0:00:01\r\u001b[K     |██████████████████████████▍     | 71 kB 26.0 MB/s eta 0:00:01\r\u001b[K     |██████████████████████████████  | 81 kB 27.7 MB/s eta 0:00:01\r\u001b[K     |████████████████████████████████| 87 kB 4.9 MB/s \n",
            "\u001b[?25hCollecting requests-file>=1.4\n",
            "  Downloading requests_file-1.5.1-py2.py3-none-any.whl (3.7 kB)\n",
            "Requirement already satisfied: idna in /usr/local/lib/python3.7/dist-packages (from tldextract) (2.10)\n",
            "Requirement already satisfied: filelock>=3.0.8 in /usr/local/lib/python3.7/dist-packages (from tldextract) (3.0.12)\n",
            "Requirement already satisfied: requests>=2.1.0 in /usr/local/lib/python3.7/dist-packages (from tldextract) (2.23.0)\n",
            "Requirement already satisfied: urllib3!=1.25.0,!=1.25.1,<1.26,>=1.21.1 in /usr/local/lib/python3.7/dist-packages (from requests>=2.1.0->tldextract) (1.24.3)\n",
            "Requirement already satisfied: chardet<4,>=3.0.2 in /usr/local/lib/python3.7/dist-packages (from requests>=2.1.0->tldextract) (3.0.4)\n",
            "Requirement already satisfied: certifi>=2017.4.17 in /usr/local/lib/python3.7/dist-packages (from requests>=2.1.0->tldextract) (2021.5.30)\n",
            "Requirement already satisfied: six in /usr/local/lib/python3.7/dist-packages (from requests-file>=1.4->tldextract) (1.15.0)\n",
            "Installing collected packages: requests-file, tldextract\n",
            "Successfully installed requests-file-1.5.1 tldextract-3.1.2\n"
          ]
        }
      ]
    },
    {
      "cell_type": "code",
      "metadata": {
        "id": "5hNGVaCrndoL"
      },
      "source": [
        "#function to perform whois on given url\n",
        "def perform_whois(url):\n",
        "    try:\n",
        "        whois_result = whois.whois(url)\n",
        "        return whois_result\n",
        "    except Exception:\n",
        "        return False"
      ],
      "execution_count": null,
      "outputs": []
    },
    {
      "cell_type": "code",
      "metadata": {
        "id": "7gRr0OHvnkjc"
      },
      "source": [
        "#function to fetch the website age in days using URL created_date\n",
        "def get_registered_date_in_days(whois_result):\n",
        "    if(whois_result!=False):\n",
        "        created_date = whois_result.creation_date\n",
        "        if((created_date is not None) and (type(created_date)!=str)):\n",
        "            if(type(created_date)==list):\n",
        "                created_date=created_date[0]\n",
        "            today_date=datetime.datetime.now()\n",
        "            days = (today_date-created_date).days\n",
        "            return days\n",
        "        else:\n",
        "            return -1\n",
        "    else:\n",
        "        return -1"
      ],
      "execution_count": null,
      "outputs": []
    },
    {
      "cell_type": "code",
      "metadata": {
        "id": "Fd7au8rwnm7o"
      },
      "source": [
        "#function to fetch the website expiry date in days using URL expiration_date\n",
        "def get_expiration_date_in_days(whois_result):\n",
        "    if(whois_result!=False):\n",
        "        expiration_date = whois_result.expiration_date\n",
        "        if((expiration_date is not None) and (type(expiration_date)!=str)):\n",
        "            if(type(expiration_date)==list):\n",
        "                expiration_date = expiration_date[0]\n",
        "            today_date=datetime.datetime.now()\n",
        "            days = (expiration_date-today_date).days\n",
        "            return days\n",
        "        else:\n",
        "            return -1\n",
        "    else:\n",
        "        return -1"
      ],
      "execution_count": null,
      "outputs": []
    },
    {
      "cell_type": "code",
      "metadata": {
        "id": "tvUhuFiAno_T"
      },
      "source": [
        "#function to fetch the website's last updated date in days using URL updated_date\n",
        "def get_updated_date_in_days(whois_result):\n",
        "    if(whois_result!=False):\n",
        "        updated_date = whois_result.updated_date\n",
        "        if((updated_date is not None) and (type(updated_date)!=str)):\n",
        "            if(type(updated_date)==list):\n",
        "                updated_date = updated_date[0]\n",
        "            today_date=datetime.datetime.now()\n",
        "            days = (today_date-updated_date).days\n",
        "            return days\n",
        "        else:\n",
        "            return -1\n",
        "    else:\n",
        "        return -1"
      ],
      "execution_count": null,
      "outputs": []
    },
    {
      "cell_type": "code",
      "metadata": {
        "colab": {
          "base_uri": "https://localhost:8080/",
          "height": 35
        },
        "id": "nj1uEQxmnrB3",
        "outputId": "e48a35f0-9f24-4caf-8287-059ab57ba237"
      },
      "source": [
        "#check for dnsresolver\n",
        "\"\"\"def perform_dnsresolver(url):\n",
        "    result = dns.resolver.query(url, 'A')\n",
        "    print(type(result))\n",
        "    for ipval in result:\n",
        "        print('IP', ipval.to_text())\"\"\""
      ],
      "execution_count": null,
      "outputs": [
        {
          "output_type": "execute_result",
          "data": {
            "application/vnd.google.colaboratory.intrinsic+json": {
              "type": "string"
            },
            "text/plain": [
              "\"def perform_dnsresolver(url):\\n    result = dns.resolver.query(url, 'A')\\n    print(type(result))\\n    for ipval in result:\\n        print('IP', ipval.to_text())\""
            ]
          },
          "metadata": {},
          "execution_count": 15
        }
      ]
    },
    {
      "cell_type": "code",
      "metadata": {
        "colab": {
          "base_uri": "https://localhost:8080/",
          "height": 35
        },
        "id": "I_WB3GaHntXS",
        "outputId": "22532ba2-9a9c-46a3-f39c-bc25963b6b50"
      },
      "source": [
        "\"\"\"perform_dnsresolver('google.com')\"\"\""
      ],
      "execution_count": null,
      "outputs": [
        {
          "output_type": "execute_result",
          "data": {
            "application/vnd.google.colaboratory.intrinsic+json": {
              "type": "string"
            },
            "text/plain": [
              "\"perform_dnsresolver('google.com')\""
            ]
          },
          "metadata": {},
          "execution_count": 16
        }
      ]
    },
    {
      "cell_type": "code",
      "metadata": {
        "colab": {
          "base_uri": "https://localhost:8080/",
          "height": 35
        },
        "id": "OJTFLlppnvn2",
        "outputId": "9c6d3ff5-a7b4-47a9-ccbc-7dd597c96691"
      },
      "source": [
        "\"\"\"sample =[]\n",
        "def extract_all_features():\n",
        "    for url in dataset['url']:\n",
        "        sample.append(get_registered_date_in_days(url))\n",
        "        #whois_resultset = get_whois_results(url)\"\"\""
      ],
      "execution_count": null,
      "outputs": [
        {
          "output_type": "execute_result",
          "data": {
            "application/vnd.google.colaboratory.intrinsic+json": {
              "type": "string"
            },
            "text/plain": [
              "\"sample =[]\\ndef extract_all_features():\\n    for url in dataset['url']:\\n        sample.append(get_registered_date_in_days(url))\\n        #whois_resultset = get_whois_results(url)\""
            ]
          },
          "metadata": {},
          "execution_count": 17
        }
      ]
    },
    {
      "cell_type": "code",
      "metadata": {
        "id": "kG72Dh4Dnx8x"
      },
      "source": [
        "def get_dot_count(url):\n",
        "    return url.count('.')"
      ],
      "execution_count": null,
      "outputs": []
    },
    {
      "cell_type": "code",
      "metadata": {
        "id": "U8p8pEavnz7D"
      },
      "source": [
        "def get_url_length(url):\n",
        "    return len(url)"
      ],
      "execution_count": null,
      "outputs": []
    },
    {
      "cell_type": "code",
      "metadata": {
        "id": "SWlqF-njn15H"
      },
      "source": [
        "def get_digit_count(url):\n",
        "    return sum(c.isdigit() for c in url)"
      ],
      "execution_count": null,
      "outputs": []
    },
    {
      "cell_type": "code",
      "metadata": {
        "id": "Uj3MR12hn4oh"
      },
      "source": [
        "def get_special_char_count(url):\n",
        "    count = 0\n",
        "    special_characters = [';','+=','_','?','=','&','[',']']\n",
        "    for each_letter in url:\n",
        "        if each_letter in special_characters:\n",
        "            count = count + 1\n",
        "    return count"
      ],
      "execution_count": null,
      "outputs": []
    },
    {
      "cell_type": "code",
      "metadata": {
        "id": "8R7tohzjn6nu"
      },
      "source": [
        "def get_hyphen_count(url):\n",
        "    return url.count('-')"
      ],
      "execution_count": null,
      "outputs": []
    },
    {
      "cell_type": "code",
      "metadata": {
        "id": "xre6QOXxn-1k"
      },
      "source": [
        "def get_double_slash(url):\n",
        "    return url.count('//')"
      ],
      "execution_count": null,
      "outputs": []
    },
    {
      "cell_type": "code",
      "metadata": {
        "id": "L-AF068pn_zB"
      },
      "source": [
        "def get_single_slash(url):\n",
        "    return url.count('/')"
      ],
      "execution_count": null,
      "outputs": []
    },
    {
      "cell_type": "code",
      "metadata": {
        "id": "R8Zr-t0poB8-"
      },
      "source": [
        "def get_at_the_rate(url):\n",
        "    return url.count('@')"
      ],
      "execution_count": null,
      "outputs": []
    },
    {
      "cell_type": "code",
      "metadata": {
        "id": "2akHskhUoEP0"
      },
      "source": [
        "def get_protocol(url):\n",
        "    protocol = urlparse(url)\n",
        "    if(protocol.scheme == 'http'):\n",
        "        return 1\n",
        "    else:\n",
        "        return 0"
      ],
      "execution_count": null,
      "outputs": []
    },
    {
      "cell_type": "code",
      "metadata": {
        "id": "77p0aJefoGbd"
      },
      "source": [
        "def get_protocol_count(url):\n",
        "    http_count = url.count('http')\n",
        "    https_count = url.count('https')\n",
        "    http_count = http_count - https_count #correcting the miscount of https as http\n",
        "    return (http_count + https_count)"
      ],
      "execution_count": null,
      "outputs": []
    },
    {
      "cell_type": "code",
      "metadata": {
        "id": "JaBd_p79oJXE"
      },
      "source": [
        "registered_date_in_days = []\n",
        "expiration_date_in_days = []\n",
        "updated_date_in_days = []\n",
        "dotCount = []\n",
        "urlLength = []\n",
        "digitCount = []\n",
        "specialCharCount = []\n",
        "hyphenCount = []\n",
        "doubleSlashCount = []\n",
        "singleSlashCount = []\n",
        "atTheRateCount = []\n",
        "protocol = []\n",
        "protocolCount = []"
      ],
      "execution_count": null,
      "outputs": []
    },
    {
      "cell_type": "code",
      "metadata": {
        "id": "CDyJooGToLlk"
      },
      "source": [
        "def extract_all_features():\n",
        "    counter = 0\n",
        "    for url in page_source_path_data['page_source_path']:\n",
        "        counter = counter + 1\n",
        "        print(counter)\n",
        "        whois_result = perform_whois(url)\n",
        "        #Extracting whois features from URLs\n",
        "        registered_date_in_days.append(get_registered_date_in_days(whois_result))\n",
        "        expiration_date_in_days.append(get_expiration_date_in_days(whois_result))\n",
        "        updated_date_in_days.append(get_updated_date_in_days(whois_result))\n",
        "        #Extracting lexical features from URLs\n",
        "        dotCount.append(get_dot_count(url))\n",
        "        urlLength.append(get_url_length(url))\n",
        "        digitCount.append(get_digit_count(url))\n",
        "        specialCharCount.append(get_special_char_count(url))\n",
        "        hyphenCount.append(get_hyphen_count(url))\n",
        "        doubleSlashCount.append(get_double_slash(url))\n",
        "        singleSlashCount.append(get_single_slash(url))\n",
        "        atTheRateCount.append(get_at_the_rate(url))\n",
        "        protocol.append(get_protocol(url))\n",
        "        protocolCount.append(get_protocol_count(url))"
      ],
      "execution_count": null,
      "outputs": []
    },
    {
      "cell_type": "code",
      "metadata": {
        "id": "IMI8E2DDoPmu"
      },
      "source": [
        "extract_all_features()\n",
        "print(f'Registered Date list length               : {len(registered_date_in_days)}')\n",
        "print(f'Expiration Date list length               : {len(expiration_date_in_days)}')\n",
        "print(f'Updation Date list length                 : {len(updated_date_in_days)}')\n",
        "print(f'Dot Count list length                     : {len(dotCount)}')\n",
        "print(f'URL Length list length                    : {len(urlLength)}')\n",
        "print(f'Digit Count list length                   : {len(digitCount)}')\n",
        "print(f'Special Character Count list length       : {len(specialCharCount)}')\n",
        "print(f'Hyphen Count list length                  : {len(hyphenCount)}')\n",
        "print(f'Double Slash Count list length            : {len(doubleSlashCount)}')\n",
        "print(f'Single Slash Count list length            : {len(singleSlashCount)}')\n",
        "print(f'At the Rate(@) Count list length          : {len(atTheRateCount)}')\n",
        "print(f'ProtocolName Count list length            : {len(protocol)}')\n",
        "print(f'Protocol Count list length                : {len(protocolCount)}')"
      ],
      "execution_count": null,
      "outputs": []
    },
    {
      "cell_type": "code",
      "metadata": {
        "id": "8Ji1_YHCoUE4"
      },
      "source": [
        "features_df = pd.DataFrame()\n",
        "features_df['whois_regDate'] = registered_date_in_days\n",
        "features_df['whois_expDate'] = expiration_date_in_days\n",
        "features_df['whois_updatedDate'] = updated_date_in_days\n",
        "features_df[\"dot_count\"] = dotCount\n",
        "features_df[\"url_len\"] = urlLength\n",
        "features_df[\"digit_count\"] = digitCount\n",
        "features_df[\"special_count\"] = specialCharCount\n",
        "features_df[\"hyphen_count\"] = hyphenCount\n",
        "features_df[\"double_slash\"] = doubleSlashCount\n",
        "features_df[\"single_slash\"] = singleSlashCount\n",
        "features_df[\"at_the_rate\"] = atTheRateCount\n",
        "features_df[\"protocol\"] = protocol\n",
        "features_df[\"protocol_count\"] = protocolCount"
      ],
      "execution_count": null,
      "outputs": []
    },
    {
      "cell_type": "code",
      "metadata": {
        "colab": {
          "base_uri": "https://localhost:8080/",
          "height": 206
        },
        "id": "akJugsFfoYlC",
        "outputId": "e2753728-62d2-4099-c2f7-8a9ec78faa94"
      },
      "source": [
        "features_df.head()"
      ],
      "execution_count": null,
      "outputs": [
        {
          "output_type": "execute_result",
          "data": {
            "text/html": [
              "<div>\n",
              "<style scoped>\n",
              "    .dataframe tbody tr th:only-of-type {\n",
              "        vertical-align: middle;\n",
              "    }\n",
              "\n",
              "    .dataframe tbody tr th {\n",
              "        vertical-align: top;\n",
              "    }\n",
              "\n",
              "    .dataframe thead th {\n",
              "        text-align: right;\n",
              "    }\n",
              "</style>\n",
              "<table border=\"1\" class=\"dataframe\">\n",
              "  <thead>\n",
              "    <tr style=\"text-align: right;\">\n",
              "      <th></th>\n",
              "      <th>whois_regDate</th>\n",
              "      <th>whois_expDate</th>\n",
              "      <th>whois_updatedDate</th>\n",
              "      <th>dot_count</th>\n",
              "      <th>url_len</th>\n",
              "      <th>digit_count</th>\n",
              "      <th>special_count</th>\n",
              "      <th>hyphen_count</th>\n",
              "      <th>double_slash</th>\n",
              "      <th>single_slash</th>\n",
              "      <th>at_the_rate</th>\n",
              "      <th>protocol</th>\n",
              "      <th>protocol_count</th>\n",
              "    </tr>\n",
              "  </thead>\n",
              "  <tbody>\n",
              "    <tr>\n",
              "      <th>0</th>\n",
              "      <td>-1</td>\n",
              "      <td>-1</td>\n",
              "      <td>-1</td>\n",
              "      <td>1</td>\n",
              "      <td>50</td>\n",
              "      <td>19</td>\n",
              "      <td>0</td>\n",
              "      <td>0</td>\n",
              "      <td>0</td>\n",
              "      <td>1</td>\n",
              "      <td>0</td>\n",
              "      <td>0</td>\n",
              "      <td>0</td>\n",
              "    </tr>\n",
              "    <tr>\n",
              "      <th>1</th>\n",
              "      <td>-1</td>\n",
              "      <td>-1</td>\n",
              "      <td>-1</td>\n",
              "      <td>1</td>\n",
              "      <td>50</td>\n",
              "      <td>27</td>\n",
              "      <td>0</td>\n",
              "      <td>0</td>\n",
              "      <td>0</td>\n",
              "      <td>1</td>\n",
              "      <td>0</td>\n",
              "      <td>0</td>\n",
              "      <td>0</td>\n",
              "    </tr>\n",
              "    <tr>\n",
              "      <th>2</th>\n",
              "      <td>-1</td>\n",
              "      <td>-1</td>\n",
              "      <td>-1</td>\n",
              "      <td>1</td>\n",
              "      <td>50</td>\n",
              "      <td>29</td>\n",
              "      <td>0</td>\n",
              "      <td>0</td>\n",
              "      <td>0</td>\n",
              "      <td>1</td>\n",
              "      <td>0</td>\n",
              "      <td>0</td>\n",
              "      <td>0</td>\n",
              "    </tr>\n",
              "    <tr>\n",
              "      <th>3</th>\n",
              "      <td>-1</td>\n",
              "      <td>-1</td>\n",
              "      <td>-1</td>\n",
              "      <td>1</td>\n",
              "      <td>50</td>\n",
              "      <td>25</td>\n",
              "      <td>0</td>\n",
              "      <td>0</td>\n",
              "      <td>0</td>\n",
              "      <td>1</td>\n",
              "      <td>0</td>\n",
              "      <td>0</td>\n",
              "      <td>0</td>\n",
              "    </tr>\n",
              "    <tr>\n",
              "      <th>4</th>\n",
              "      <td>-1</td>\n",
              "      <td>-1</td>\n",
              "      <td>-1</td>\n",
              "      <td>1</td>\n",
              "      <td>50</td>\n",
              "      <td>19</td>\n",
              "      <td>0</td>\n",
              "      <td>0</td>\n",
              "      <td>0</td>\n",
              "      <td>1</td>\n",
              "      <td>0</td>\n",
              "      <td>0</td>\n",
              "      <td>0</td>\n",
              "    </tr>\n",
              "  </tbody>\n",
              "</table>\n",
              "</div>"
            ],
            "text/plain": [
              "   whois_regDate  whois_expDate  ...  protocol  protocol_count\n",
              "0             -1             -1  ...         0               0\n",
              "1             -1             -1  ...         0               0\n",
              "2             -1             -1  ...         0               0\n",
              "3             -1             -1  ...         0               0\n",
              "4             -1             -1  ...         0               0\n",
              "\n",
              "[5 rows x 13 columns]"
            ]
          },
          "metadata": {},
          "execution_count": 32
        }
      ]
    },
    {
      "cell_type": "code",
      "metadata": {
        "colab": {
          "base_uri": "https://localhost:8080/"
        },
        "id": "x9j6SuKiobCj",
        "outputId": "854143cd-d5a7-4e0f-d034-f6f7cc2abebc"
      },
      "source": [
        "features_df.shape"
      ],
      "execution_count": null,
      "outputs": [
        {
          "output_type": "execute_result",
          "data": {
            "text/plain": [
              "(7140, 13)"
            ]
          },
          "metadata": {},
          "execution_count": 33
        }
      ]
    },
    {
      "cell_type": "code",
      "metadata": {
        "id": "atSv7FygoeRE"
      },
      "source": [
        "features_df.to_csv(\"features_page_source_path_.csv\",index=False)"
      ],
      "execution_count": null,
      "outputs": []
    },
    {
      "cell_type": "code",
      "metadata": {
        "id": "Dg_gDbXqpFFa"
      },
      "source": [
        "feature_page=pd.read_csv('/content/gdrive/MyDrive/features_page_source_path_.csv')"
      ],
      "execution_count": null,
      "outputs": []
    },
    {
      "cell_type": "code",
      "metadata": {
        "colab": {
          "base_uri": "https://localhost:8080/",
          "height": 206
        },
        "id": "UzO0NrKQtpdq",
        "outputId": "6a5b9d0a-8cc1-4bb7-bd31-492457199064"
      },
      "source": [
        "feature_page.head()"
      ],
      "execution_count": null,
      "outputs": [
        {
          "output_type": "execute_result",
          "data": {
            "text/html": [
              "<div>\n",
              "<style scoped>\n",
              "    .dataframe tbody tr th:only-of-type {\n",
              "        vertical-align: middle;\n",
              "    }\n",
              "\n",
              "    .dataframe tbody tr th {\n",
              "        vertical-align: top;\n",
              "    }\n",
              "\n",
              "    .dataframe thead th {\n",
              "        text-align: right;\n",
              "    }\n",
              "</style>\n",
              "<table border=\"1\" class=\"dataframe\">\n",
              "  <thead>\n",
              "    <tr style=\"text-align: right;\">\n",
              "      <th></th>\n",
              "      <th>whois_regDate</th>\n",
              "      <th>whois_expDate</th>\n",
              "      <th>whois_updatedDate</th>\n",
              "      <th>dot_count</th>\n",
              "      <th>url_len</th>\n",
              "      <th>digit_count</th>\n",
              "      <th>special_count</th>\n",
              "      <th>hyphen_count</th>\n",
              "      <th>double_slash</th>\n",
              "      <th>single_slash</th>\n",
              "      <th>at_the_rate</th>\n",
              "      <th>protocol</th>\n",
              "      <th>protocol_count</th>\n",
              "    </tr>\n",
              "  </thead>\n",
              "  <tbody>\n",
              "    <tr>\n",
              "      <th>0</th>\n",
              "      <td>-1</td>\n",
              "      <td>-1</td>\n",
              "      <td>-1</td>\n",
              "      <td>1</td>\n",
              "      <td>50</td>\n",
              "      <td>19</td>\n",
              "      <td>0</td>\n",
              "      <td>0</td>\n",
              "      <td>0</td>\n",
              "      <td>1</td>\n",
              "      <td>0</td>\n",
              "      <td>0</td>\n",
              "      <td>0</td>\n",
              "    </tr>\n",
              "    <tr>\n",
              "      <th>1</th>\n",
              "      <td>-1</td>\n",
              "      <td>-1</td>\n",
              "      <td>-1</td>\n",
              "      <td>1</td>\n",
              "      <td>50</td>\n",
              "      <td>27</td>\n",
              "      <td>0</td>\n",
              "      <td>0</td>\n",
              "      <td>0</td>\n",
              "      <td>1</td>\n",
              "      <td>0</td>\n",
              "      <td>0</td>\n",
              "      <td>0</td>\n",
              "    </tr>\n",
              "    <tr>\n",
              "      <th>2</th>\n",
              "      <td>-1</td>\n",
              "      <td>-1</td>\n",
              "      <td>-1</td>\n",
              "      <td>1</td>\n",
              "      <td>50</td>\n",
              "      <td>29</td>\n",
              "      <td>0</td>\n",
              "      <td>0</td>\n",
              "      <td>0</td>\n",
              "      <td>1</td>\n",
              "      <td>0</td>\n",
              "      <td>0</td>\n",
              "      <td>0</td>\n",
              "    </tr>\n",
              "    <tr>\n",
              "      <th>3</th>\n",
              "      <td>-1</td>\n",
              "      <td>-1</td>\n",
              "      <td>-1</td>\n",
              "      <td>1</td>\n",
              "      <td>50</td>\n",
              "      <td>25</td>\n",
              "      <td>0</td>\n",
              "      <td>0</td>\n",
              "      <td>0</td>\n",
              "      <td>1</td>\n",
              "      <td>0</td>\n",
              "      <td>0</td>\n",
              "      <td>0</td>\n",
              "    </tr>\n",
              "    <tr>\n",
              "      <th>4</th>\n",
              "      <td>-1</td>\n",
              "      <td>-1</td>\n",
              "      <td>-1</td>\n",
              "      <td>1</td>\n",
              "      <td>50</td>\n",
              "      <td>19</td>\n",
              "      <td>0</td>\n",
              "      <td>0</td>\n",
              "      <td>0</td>\n",
              "      <td>1</td>\n",
              "      <td>0</td>\n",
              "      <td>0</td>\n",
              "      <td>0</td>\n",
              "    </tr>\n",
              "  </tbody>\n",
              "</table>\n",
              "</div>"
            ],
            "text/plain": [
              "   whois_regDate  whois_expDate  ...  protocol  protocol_count\n",
              "0             -1             -1  ...         0               0\n",
              "1             -1             -1  ...         0               0\n",
              "2             -1             -1  ...         0               0\n",
              "3             -1             -1  ...         0               0\n",
              "4             -1             -1  ...         0               0\n",
              "\n",
              "[5 rows x 13 columns]"
            ]
          },
          "metadata": {},
          "execution_count": 55
        }
      ]
    },
    {
      "cell_type": "code",
      "metadata": {
        "id": "IvGqDbYYtvk6"
      },
      "source": [
        "#all features are constant except digits_counts\n",
        "sekected_fea =feature_page.filter(['digit_count'],axis=1)"
      ],
      "execution_count": null,
      "outputs": []
    },
    {
      "cell_type": "code",
      "metadata": {
        "colab": {
          "base_uri": "https://localhost:8080/",
          "height": 206
        },
        "id": "65-NiQ-Lt34G",
        "outputId": "e3238674-b112-4700-d684-41bd19b99f5d"
      },
      "source": [
        "sekected_fea.head()"
      ],
      "execution_count": null,
      "outputs": [
        {
          "output_type": "execute_result",
          "data": {
            "text/html": [
              "<div>\n",
              "<style scoped>\n",
              "    .dataframe tbody tr th:only-of-type {\n",
              "        vertical-align: middle;\n",
              "    }\n",
              "\n",
              "    .dataframe tbody tr th {\n",
              "        vertical-align: top;\n",
              "    }\n",
              "\n",
              "    .dataframe thead th {\n",
              "        text-align: right;\n",
              "    }\n",
              "</style>\n",
              "<table border=\"1\" class=\"dataframe\">\n",
              "  <thead>\n",
              "    <tr style=\"text-align: right;\">\n",
              "      <th></th>\n",
              "      <th>digit_count</th>\n",
              "    </tr>\n",
              "  </thead>\n",
              "  <tbody>\n",
              "    <tr>\n",
              "      <th>0</th>\n",
              "      <td>19</td>\n",
              "    </tr>\n",
              "    <tr>\n",
              "      <th>1</th>\n",
              "      <td>27</td>\n",
              "    </tr>\n",
              "    <tr>\n",
              "      <th>2</th>\n",
              "      <td>29</td>\n",
              "    </tr>\n",
              "    <tr>\n",
              "      <th>3</th>\n",
              "      <td>25</td>\n",
              "    </tr>\n",
              "    <tr>\n",
              "      <th>4</th>\n",
              "      <td>19</td>\n",
              "    </tr>\n",
              "  </tbody>\n",
              "</table>\n",
              "</div>"
            ],
            "text/plain": [
              "   digit_count\n",
              "0           19\n",
              "1           27\n",
              "2           29\n",
              "3           25\n",
              "4           19"
            ]
          },
          "metadata": {},
          "execution_count": 57
        }
      ]
    },
    {
      "cell_type": "code",
      "metadata": {
        "id": "uVXOcVR3uB1G"
      },
      "source": [
        "sekected_fea.to_csv(\"selectrd_features_page_source_path_.csv\",index=False)"
      ],
      "execution_count": null,
      "outputs": []
    },
    {
      "cell_type": "code",
      "metadata": {
        "id": "OWVpWeLsur-H"
      },
      "source": [
        "cal=pd.read_csv('/content/gdrive/MyDrive/selectrd_features_page_source_path_.csv')"
      ],
      "execution_count": null,
      "outputs": []
    },
    {
      "cell_type": "code",
      "metadata": {
        "colab": {
          "base_uri": "https://localhost:8080/",
          "height": 423
        },
        "id": "Zg8DFfKvuh8w",
        "outputId": "192ec011-79e4-426a-fba9-2ac0f1b88ef2"
      },
      "source": [
        "df_scaled = cal.copy()\n",
        "\n",
        "# apply normalization techniques by Column 1\n",
        "column ='digit_count'\n",
        "cal[column] = (cal[column] - cal[column].min()) / (cal[column].max() - cal[column].min())\t\n",
        "\n",
        "# view normalized data\n",
        "display(cal)"
      ],
      "execution_count": null,
      "outputs": [
        {
          "output_type": "display_data",
          "data": {
            "text/html": [
              "<div>\n",
              "<style scoped>\n",
              "    .dataframe tbody tr th:only-of-type {\n",
              "        vertical-align: middle;\n",
              "    }\n",
              "\n",
              "    .dataframe tbody tr th {\n",
              "        vertical-align: top;\n",
              "    }\n",
              "\n",
              "    .dataframe thead th {\n",
              "        text-align: right;\n",
              "    }\n",
              "</style>\n",
              "<table border=\"1\" class=\"dataframe\">\n",
              "  <thead>\n",
              "    <tr style=\"text-align: right;\">\n",
              "      <th></th>\n",
              "      <th>digit_count</th>\n",
              "    </tr>\n",
              "  </thead>\n",
              "  <tbody>\n",
              "    <tr>\n",
              "      <th>0</th>\n",
              "      <td>0.260870</td>\n",
              "    </tr>\n",
              "    <tr>\n",
              "      <th>1</th>\n",
              "      <td>0.608696</td>\n",
              "    </tr>\n",
              "    <tr>\n",
              "      <th>2</th>\n",
              "      <td>0.695652</td>\n",
              "    </tr>\n",
              "    <tr>\n",
              "      <th>3</th>\n",
              "      <td>0.521739</td>\n",
              "    </tr>\n",
              "    <tr>\n",
              "      <th>4</th>\n",
              "      <td>0.260870</td>\n",
              "    </tr>\n",
              "    <tr>\n",
              "      <th>...</th>\n",
              "      <td>...</td>\n",
              "    </tr>\n",
              "    <tr>\n",
              "      <th>7135</th>\n",
              "      <td>0.391304</td>\n",
              "    </tr>\n",
              "    <tr>\n",
              "      <th>7136</th>\n",
              "      <td>0.695652</td>\n",
              "    </tr>\n",
              "    <tr>\n",
              "      <th>7137</th>\n",
              "      <td>0.695652</td>\n",
              "    </tr>\n",
              "    <tr>\n",
              "      <th>7138</th>\n",
              "      <td>0.521739</td>\n",
              "    </tr>\n",
              "    <tr>\n",
              "      <th>7139</th>\n",
              "      <td>0.434783</td>\n",
              "    </tr>\n",
              "  </tbody>\n",
              "</table>\n",
              "<p>7140 rows × 1 columns</p>\n",
              "</div>"
            ],
            "text/plain": [
              "      digit_count\n",
              "0        0.260870\n",
              "1        0.608696\n",
              "2        0.695652\n",
              "3        0.521739\n",
              "4        0.260870\n",
              "...           ...\n",
              "7135     0.391304\n",
              "7136     0.695652\n",
              "7137     0.695652\n",
              "7138     0.521739\n",
              "7139     0.434783\n",
              "\n",
              "[7140 rows x 1 columns]"
            ]
          },
          "metadata": {}
        }
      ]
    },
    {
      "cell_type": "code",
      "metadata": {
        "id": "kpGSV5MFvRCZ"
      },
      "source": [
        "cal.to_csv(\"nrmalized_selected_features_page_source_path_.csv\",index=False)"
      ],
      "execution_count": null,
      "outputs": []
    }
  ]
}