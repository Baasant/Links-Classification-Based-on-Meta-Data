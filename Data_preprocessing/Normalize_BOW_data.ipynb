{
  "nbformat": 4,
  "nbformat_minor": 0,
  "metadata": {
    "colab": {
      "name": "Copy of Normalize_BOW_data.ipynb",
      "provenance": [],
      "collapsed_sections": []
    },
    "kernelspec": {
      "name": "python3",
      "display_name": "Python 3"
    },
    "language_info": {
      "name": "python"
    }
  },
  "cells": [
    {
      "cell_type": "code",
      "metadata": {
        "id": "U2ozmZLb2llI"
      },
      "source": [
        "#normalize link_id ,num-epochs\n",
        "#convert link_url,link_domain_name,content_name,alt_content_names,campaign_name"
      ],
      "execution_count": null,
      "outputs": []
    },
    {
      "cell_type": "code",
      "metadata": {
        "id": "NLknNtRO4931"
      },
      "source": [
        "import numpy as np\n",
        "import pandas as pd"
      ],
      "execution_count": null,
      "outputs": []
    },
    {
      "cell_type": "code",
      "metadata": {
        "colab": {
          "base_uri": "https://localhost:8080/"
        },
        "id": "phRavr-g4RCv",
        "outputId": "485d81a6-b627-421c-af89-16d9fac88d5b"
      },
      "source": [
        "from google.colab import drive\n",
        "drive.mount('/content/gdrive')"
      ],
      "execution_count": null,
      "outputs": [
        {
          "output_type": "stream",
          "name": "stdout",
          "text": [
            "Mounted at /content/gdrive\n"
          ]
        }
      ]
    },
    {
      "cell_type": "code",
      "metadata": {
        "id": "n592M4164gUm"
      },
      "source": [
        "data = pd.DataFrame(pd.read_excel(\"/content/gdrive/MyDrive/Links_Classification_Task.xlsx\"))"
      ],
      "execution_count": null,
      "outputs": []
    },
    {
      "cell_type": "code",
      "metadata": {
        "id": "K58Tl0If5HiD"
      },
      "source": [
        "data.drop('trans_content_name',axis='columns', inplace=True)"
      ],
      "execution_count": null,
      "outputs": []
    },
    {
      "cell_type": "code",
      "metadata": {
        "colab": {
          "base_uri": "https://localhost:8080/"
        },
        "id": "stCo_UNt5QHU",
        "outputId": "daad630c-fc8a-4c6c-e716-feb6fd6b1692"
      },
      "source": [
        "data.isnull().sum()"
      ],
      "execution_count": null,
      "outputs": [
        {
          "output_type": "execute_result",
          "data": {
            "text/plain": [
              "link_id                 0\n",
              "page_source_path        0\n",
              "link_url                0\n",
              "link_domain_name        0\n",
              "content_name            0\n",
              "alt_content_names     851\n",
              "campaign_name           0\n",
              "number_of_episodes      0\n",
              "class                  10\n",
              "dtype: int64"
            ]
          },
          "metadata": {},
          "execution_count": 9
        }
      ]
    },
    {
      "cell_type": "code",
      "metadata": {
        "id": "8t4oHCLa5Sif"
      },
      "source": [
        "#drop rows contain nan\n",
        "data.dropna(subset=['alt_content_names', 'class'], inplace=True)"
      ],
      "execution_count": null,
      "outputs": []
    },
    {
      "cell_type": "code",
      "metadata": {
        "colab": {
          "base_uri": "https://localhost:8080/"
        },
        "id": "Is0qwB6r5U78",
        "outputId": "4c439e1d-a37b-485d-edbe-dbd412f3d97a"
      },
      "source": [
        "data.isnull().sum()\n",
        "#len(data)"
      ],
      "execution_count": null,
      "outputs": [
        {
          "output_type": "execute_result",
          "data": {
            "text/plain": [
              "link_id               0\n",
              "page_source_path      0\n",
              "link_url              0\n",
              "link_domain_name      0\n",
              "content_name          0\n",
              "alt_content_names     0\n",
              "campaign_name         0\n",
              "number_of_episodes    0\n",
              "class                 0\n",
              "dtype: int64"
            ]
          },
          "metadata": {},
          "execution_count": 11
        }
      ]
    },
    {
      "cell_type": "code",
      "metadata": {
        "colab": {
          "base_uri": "https://localhost:8080/"
        },
        "id": "itwfU-Vf5XSv",
        "outputId": "5a60787a-e190-4068-fd5a-964da3be8bcf"
      },
      "source": [
        "len(data)"
      ],
      "execution_count": null,
      "outputs": [
        {
          "output_type": "execute_result",
          "data": {
            "text/plain": [
              "7140"
            ]
          },
          "metadata": {},
          "execution_count": 12
        }
      ]
    },
    {
      "cell_type": "code",
      "metadata": {
        "id": "KSH0MMcu5Zby"
      },
      "source": [
        "#covert class to 1 for related , 0 unrelated\n",
        "data = data.replace({'class': {'related': 1, \n",
        "                                'unrelated':0}})"
      ],
      "execution_count": null,
      "outputs": []
    },
    {
      "cell_type": "code",
      "metadata": {
        "colab": {
          "base_uri": "https://localhost:8080/",
          "height": 295
        },
        "id": "lWwqJ9U05cw7",
        "outputId": "aea365ff-b1c2-4a00-9082-e98fe87bfef5"
      },
      "source": [
        "data.head()"
      ],
      "execution_count": null,
      "outputs": [
        {
          "output_type": "execute_result",
          "data": {
            "text/html": [
              "<div>\n",
              "<style scoped>\n",
              "    .dataframe tbody tr th:only-of-type {\n",
              "        vertical-align: middle;\n",
              "    }\n",
              "\n",
              "    .dataframe tbody tr th {\n",
              "        vertical-align: top;\n",
              "    }\n",
              "\n",
              "    .dataframe thead th {\n",
              "        text-align: right;\n",
              "    }\n",
              "</style>\n",
              "<table border=\"1\" class=\"dataframe\">\n",
              "  <thead>\n",
              "    <tr style=\"text-align: right;\">\n",
              "      <th></th>\n",
              "      <th>link_id</th>\n",
              "      <th>page_source_path</th>\n",
              "      <th>link_url</th>\n",
              "      <th>link_domain_name</th>\n",
              "      <th>content_name</th>\n",
              "      <th>alt_content_names</th>\n",
              "      <th>campaign_name</th>\n",
              "      <th>number_of_episodes</th>\n",
              "      <th>class</th>\n",
              "    </tr>\n",
              "  </thead>\n",
              "  <tbody>\n",
              "    <tr>\n",
              "      <th>0</th>\n",
              "      <td>2554338</td>\n",
              "      <td>doms/a068feac8d33e1d11379987dfef4beefd0a6e1ef....</td>\n",
              "      <td>https://video.aflamyeg.com/watch.php?vid=9d92e...</td>\n",
              "      <td>video.aflamyeg.com</td>\n",
              "      <td>البرنس</td>\n",
              "      <td>Al Prince,El Prince</td>\n",
              "      <td>RH_Campaign_البرنس</td>\n",
              "      <td>30</td>\n",
              "      <td>1</td>\n",
              "    </tr>\n",
              "    <tr>\n",
              "      <th>1</th>\n",
              "      <td>2746768</td>\n",
              "      <td>doms/030946acbb0c3257000915fa36f98b34cc1ed349....</td>\n",
              "      <td>https://b.brstej.com/watch.php?vid=a3fae3d8b</td>\n",
              "      <td>b.brstej.com</td>\n",
              "      <td>قدرى و نصيبى</td>\n",
              "      <td>Dilli Wali Thakur Gurls</td>\n",
              "      <td>Qadari w Nasibi  -قدرى ونصيبي</td>\n",
              "      <td>22</td>\n",
              "      <td>1</td>\n",
              "    </tr>\n",
              "    <tr>\n",
              "      <th>2</th>\n",
              "      <td>2439834</td>\n",
              "      <td>doms/e1cbb7a8f40068d13bf16392618497138318e14b....</td>\n",
              "      <td>https://www.alfantime.com/video/watch.php?vid=...</td>\n",
              "      <td>alfantime.com</td>\n",
              "      <td>The Handmaid’s Tale</td>\n",
              "      <td>حكاية أمة,قصة الخادمة</td>\n",
              "      <td>The Handmaid’s Tale</td>\n",
              "      <td>46</td>\n",
              "      <td>1</td>\n",
              "    </tr>\n",
              "    <tr>\n",
              "      <th>3</th>\n",
              "      <td>2554434</td>\n",
              "      <td>doms/26a072b1a330967cbae92c49c343b3a91f1ecf91....</td>\n",
              "      <td>https://www.fou2sh.net/video/3d48f74d0</td>\n",
              "      <td>fou2sh.net</td>\n",
              "      <td>البرنس</td>\n",
              "      <td>Al Prince,El Prince</td>\n",
              "      <td>RH_Campaign_البرنس</td>\n",
              "      <td>30</td>\n",
              "      <td>1</td>\n",
              "    </tr>\n",
              "    <tr>\n",
              "      <th>4</th>\n",
              "      <td>2685117</td>\n",
              "      <td>doms/b04bdd3cbd554d838cbe63b94ecddefff170399e....</td>\n",
              "      <td>http://idxaljku.gkspiter.ru/21.html</td>\n",
              "      <td>idxaljku.gkspiter.ru</td>\n",
              "      <td>من أنا</td>\n",
              "      <td>من انا الهندى</td>\n",
              "      <td>من أنا</td>\n",
              "      <td>30</td>\n",
              "      <td>0</td>\n",
              "    </tr>\n",
              "  </tbody>\n",
              "</table>\n",
              "</div>"
            ],
            "text/plain": [
              "   link_id  ... class\n",
              "0  2554338  ...     1\n",
              "1  2746768  ...     1\n",
              "2  2439834  ...     1\n",
              "3  2554434  ...     1\n",
              "4  2685117  ...     0\n",
              "\n",
              "[5 rows x 9 columns]"
            ]
          },
          "metadata": {},
          "execution_count": 14
        }
      ]
    },
    {
      "cell_type": "code",
      "metadata": {
        "colab": {
          "base_uri": "https://localhost:8080/",
          "height": 600
        },
        "id": "qc4upcOs6_hF",
        "outputId": "8ddf82be-5d27-4527-afe8-1c129b07ae98"
      },
      "source": [
        "#normalize link id \n",
        "#data normalization\n",
        "#normalize data between0,1\n",
        "# copy the data\n",
        "df_scaled = data.copy()\n",
        "\n",
        "# apply normalization techniques by Column 1\n",
        "column = 'link_id'\n",
        "data[column] = (data[column] - data[column].min()) / (data[column].max() - data[column].min())\t\n",
        "\n",
        "# view normalized data\n",
        "display(data)"
      ],
      "execution_count": null,
      "outputs": [
        {
          "output_type": "display_data",
          "data": {
            "text/html": [
              "<div>\n",
              "<style scoped>\n",
              "    .dataframe tbody tr th:only-of-type {\n",
              "        vertical-align: middle;\n",
              "    }\n",
              "\n",
              "    .dataframe tbody tr th {\n",
              "        vertical-align: top;\n",
              "    }\n",
              "\n",
              "    .dataframe thead th {\n",
              "        text-align: right;\n",
              "    }\n",
              "</style>\n",
              "<table border=\"1\" class=\"dataframe\">\n",
              "  <thead>\n",
              "    <tr style=\"text-align: right;\">\n",
              "      <th></th>\n",
              "      <th>link_id</th>\n",
              "      <th>page_source_path</th>\n",
              "      <th>link_url</th>\n",
              "      <th>link_domain_name</th>\n",
              "      <th>content_name</th>\n",
              "      <th>alt_content_names</th>\n",
              "      <th>campaign_name</th>\n",
              "      <th>number_of_episodes</th>\n",
              "      <th>class</th>\n",
              "    </tr>\n",
              "  </thead>\n",
              "  <tbody>\n",
              "    <tr>\n",
              "      <th>0</th>\n",
              "      <td>0.692649</td>\n",
              "      <td>doms/a068feac8d33e1d11379987dfef4beefd0a6e1ef....</td>\n",
              "      <td>https://video.aflamyeg.com/watch.php?vid=9d92e...</td>\n",
              "      <td>video.aflamyeg.com</td>\n",
              "      <td>البرنس</td>\n",
              "      <td>Al Prince,El Prince</td>\n",
              "      <td>RH_Campaign_البرنس</td>\n",
              "      <td>30</td>\n",
              "      <td>1</td>\n",
              "    </tr>\n",
              "    <tr>\n",
              "      <th>1</th>\n",
              "      <td>0.991262</td>\n",
              "      <td>doms/030946acbb0c3257000915fa36f98b34cc1ed349....</td>\n",
              "      <td>https://b.brstej.com/watch.php?vid=a3fae3d8b</td>\n",
              "      <td>b.brstej.com</td>\n",
              "      <td>قدرى و نصيبى</td>\n",
              "      <td>Dilli Wali Thakur Gurls</td>\n",
              "      <td>Qadari w Nasibi  -قدرى ونصيبي</td>\n",
              "      <td>22</td>\n",
              "      <td>1</td>\n",
              "    </tr>\n",
              "    <tr>\n",
              "      <th>2</th>\n",
              "      <td>0.514962</td>\n",
              "      <td>doms/e1cbb7a8f40068d13bf16392618497138318e14b....</td>\n",
              "      <td>https://www.alfantime.com/video/watch.php?vid=...</td>\n",
              "      <td>alfantime.com</td>\n",
              "      <td>The Handmaid’s Tale</td>\n",
              "      <td>حكاية أمة,قصة الخادمة</td>\n",
              "      <td>The Handmaid’s Tale</td>\n",
              "      <td>46</td>\n",
              "      <td>1</td>\n",
              "    </tr>\n",
              "    <tr>\n",
              "      <th>3</th>\n",
              "      <td>0.692798</td>\n",
              "      <td>doms/26a072b1a330967cbae92c49c343b3a91f1ecf91....</td>\n",
              "      <td>https://www.fou2sh.net/video/3d48f74d0</td>\n",
              "      <td>fou2sh.net</td>\n",
              "      <td>البرنس</td>\n",
              "      <td>Al Prince,El Prince</td>\n",
              "      <td>RH_Campaign_البرنس</td>\n",
              "      <td>30</td>\n",
              "      <td>1</td>\n",
              "    </tr>\n",
              "    <tr>\n",
              "      <th>4</th>\n",
              "      <td>0.895592</td>\n",
              "      <td>doms/b04bdd3cbd554d838cbe63b94ecddefff170399e....</td>\n",
              "      <td>http://idxaljku.gkspiter.ru/21.html</td>\n",
              "      <td>idxaljku.gkspiter.ru</td>\n",
              "      <td>من أنا</td>\n",
              "      <td>من انا الهندى</td>\n",
              "      <td>من أنا</td>\n",
              "      <td>30</td>\n",
              "      <td>0</td>\n",
              "    </tr>\n",
              "    <tr>\n",
              "      <th>...</th>\n",
              "      <td>...</td>\n",
              "      <td>...</td>\n",
              "      <td>...</td>\n",
              "      <td>...</td>\n",
              "      <td>...</td>\n",
              "      <td>...</td>\n",
              "      <td>...</td>\n",
              "      <td>...</td>\n",
              "      <td>...</td>\n",
              "    </tr>\n",
              "    <tr>\n",
              "      <th>7994</th>\n",
              "      <td>0.922672</td>\n",
              "      <td>doms/f4835e060fb238acb1eff07e74b0a9b4caae5790....</td>\n",
              "      <td>https://www.sacitaslan.com/ozgu-namaldan-6-yil...</td>\n",
              "      <td>sacitaslan.com</td>\n",
              "      <td>الرحمة</td>\n",
              "      <td>Merhamet</td>\n",
              "      <td>Mercy - الرحمة</td>\n",
              "      <td>44</td>\n",
              "      <td>0</td>\n",
              "    </tr>\n",
              "    <tr>\n",
              "      <th>7995</th>\n",
              "      <td>0.905646</td>\n",
              "      <td>doms/56153e491a00949e365f5218eab7e9e3320d96c9....</td>\n",
              "      <td>https://aldeerah.news/video/watch.php?vid=c365...</td>\n",
              "      <td>aldeerah.news</td>\n",
              "      <td>حكايتي</td>\n",
              "      <td>حكايتى</td>\n",
              "      <td>RH_Campaign_حكايتي</td>\n",
              "      <td>30</td>\n",
              "      <td>1</td>\n",
              "    </tr>\n",
              "    <tr>\n",
              "      <th>7997</th>\n",
              "      <td>0.669485</td>\n",
              "      <td>doms/07ac62c48fe4a87036b80454c5d4109e4f192266....</td>\n",
              "      <td>https://video.jwabnet.net/embed.php?vid=e35782d4c</td>\n",
              "      <td>video.jwabnet.net</td>\n",
              "      <td>سكن الطالبات</td>\n",
              "      <td>سكن الطالبات الهندى,سكن الطالبات الهندى المدبلج</td>\n",
              "      <td>sakan eltalbat - سكن الطالبات</td>\n",
              "      <td>30</td>\n",
              "      <td>1</td>\n",
              "    </tr>\n",
              "    <tr>\n",
              "      <th>7998</th>\n",
              "      <td>0.954675</td>\n",
              "      <td>doms/bb110b2bef3754b46648ba75e9e69534f8d6ec94....</td>\n",
              "      <td>https://www.fox-iptv.net/channel-list?catid=26...</td>\n",
              "      <td>fox-iptv.net</td>\n",
              "      <td>البرنس</td>\n",
              "      <td>Al Prince,El Prince</td>\n",
              "      <td>RH_Campaign_البرنس</td>\n",
              "      <td>30</td>\n",
              "      <td>0</td>\n",
              "    </tr>\n",
              "    <tr>\n",
              "      <th>7999</th>\n",
              "      <td>0.824162</td>\n",
              "      <td>doms/5c8d506c458bcab2ca7a8a8b68779d3f944d1a4d....</td>\n",
              "      <td>https://www.lterna.com/video/watch.php?vid=04e...</td>\n",
              "      <td>lterna.com</td>\n",
              "      <td>Money Heist</td>\n",
              "      <td>La Casa De Papel</td>\n",
              "      <td>Money Heist</td>\n",
              "      <td>31</td>\n",
              "      <td>1</td>\n",
              "    </tr>\n",
              "  </tbody>\n",
              "</table>\n",
              "<p>7140 rows × 9 columns</p>\n",
              "</div>"
            ],
            "text/plain": [
              "       link_id  ... class\n",
              "0     0.692649  ...     1\n",
              "1     0.991262  ...     1\n",
              "2     0.514962  ...     1\n",
              "3     0.692798  ...     1\n",
              "4     0.895592  ...     0\n",
              "...        ...  ...   ...\n",
              "7994  0.922672  ...     0\n",
              "7995  0.905646  ...     1\n",
              "7997  0.669485  ...     1\n",
              "7998  0.954675  ...     0\n",
              "7999  0.824162  ...     1\n",
              "\n",
              "[7140 rows x 9 columns]"
            ]
          },
          "metadata": {}
        }
      ]
    },
    {
      "cell_type": "code",
      "metadata": {
        "id": "3zFVt9f57Pbb"
      },
      "source": [
        "#normalize link id \n",
        "#data normalization\n",
        "#normalize data between0,1\n",
        "# copy the data\n",
        "df_scaled = data.copy()\n",
        "\n",
        "# apply normalization techniques by Column 1\n",
        "column = 'number_of_episodes'\n",
        "data[column] = (data[column] - data[column].min()) / (data[column].max() - data[column].min())\t\n",
        "\n",
        "# view normalized data\n",
        "display(data)"
      ],
      "execution_count": null,
      "outputs": []
    },
    {
      "cell_type": "code",
      "metadata": {
        "id": "37rlSZfj7XCL"
      },
      "source": [
        "#make csv_file\n",
        "data.to_csv(\"normalized_data.csv\",index=False)"
      ],
      "execution_count": null,
      "outputs": []
    },
    {
      "cell_type": "code",
      "metadata": {
        "id": "oaKb2pTv7m5e"
      },
      "source": [
        "##convert link_url,link_domain_name,content_name,alt_content_names,campaign_name to BOW"
      ],
      "execution_count": null,
      "outputs": []
    },
    {
      "cell_type": "code",
      "metadata": {
        "colab": {
          "base_uri": "https://localhost:8080/"
        },
        "id": "pEygXtu-98Vm",
        "outputId": "c5bed298-c1e7-471f-fab8-8eef012a81a4"
      },
      "source": [
        "import pandas as pd\n",
        "from sklearn.feature_extraction.text import CountVectorizer, TfidfVectorizer\n",
        "CountVec = CountVectorizer()\n",
        "#transform\n",
        "Count_data = CountVec.fit_transform(data['content_name'])\n",
        "BOW_content_name\n",
        "#create dataframe\n",
        "BOW_content_name=pd.DataFrame(Count_data.toarray(),columns=CountVec.get_feature_names())\n",
        "print(BOW_content_name)"
      ],
      "execution_count": null,
      "outputs": [
        {
          "output_type": "stream",
          "name": "stdout",
          "text": [
            "      30  handmaid  heist  jumanji  level  ...  نظرة  نور  وفيني  يتخطى  يوم\n",
            "0      0         0      0        0      0  ...     0    0      0      0    0\n",
            "1      0         0      0        0      0  ...     0    0      0      0    0\n",
            "2      0         1      0        0      0  ...     0    0      0      0    0\n",
            "3      0         0      0        0      0  ...     0    0      0      0    0\n",
            "4      0         0      0        0      0  ...     0    0      0      0    0\n",
            "...   ..       ...    ...      ...    ...  ...   ...  ...    ...    ...  ...\n",
            "7135   0         0      0        0      0  ...     0    0      0      0    0\n",
            "7136   0         0      0        0      0  ...     0    0      0      0    0\n",
            "7137   0         0      0        0      0  ...     0    0      0      0    0\n",
            "7138   0         0      0        0      0  ...     0    0      0      0    0\n",
            "7139   0         0      1        0      0  ...     0    0      0      0    0\n",
            "\n",
            "[7140 rows x 67 columns]\n"
          ]
        }
      ]
    },
    {
      "cell_type": "code",
      "metadata": {
        "id": "lziAnwMlBGHr"
      },
      "source": [
        "BOW_content_name.to_csv(\"BOW_content_name.csv\",index=False)"
      ],
      "execution_count": null,
      "outputs": []
    },
    {
      "cell_type": "code",
      "metadata": {
        "colab": {
          "base_uri": "https://localhost:8080/"
        },
        "id": "v2TmKc-KBwY-",
        "outputId": "71dbb9a2-0cfb-45d3-fe29-2b66e18af8b9"
      },
      "source": [
        "import pandas as pd\n",
        "from sklearn.feature_extraction.text import CountVectorizer, TfidfVectorizer\n",
        "CountVec = CountVectorizer()\n",
        "#transform\n",
        "Count_data = CountVec.fit_transform(data['link_domain_name'])\n",
        "#BOW_content_name\n",
        "#create dataframe\n",
        "BOW_link_domain_name=pd.DataFrame(Count_data.toarray(),columns=CountVec.get_feature_names())\n",
        "print(BOW_link_domain_name.head())"
      ],
      "execution_count": null,
      "outputs": [
        {
          "output_type": "stream",
          "name": "stdout",
          "text": [
            "   123movies  127  13  ...  zonaaltasocial  zone  zorhcfny\n",
            "0          0    0   0  ...               0     0         0\n",
            "1          0    0   0  ...               0     0         0\n",
            "2          0    0   0  ...               0     0         0\n",
            "3          0    0   0  ...               0     0         0\n",
            "4          0    0   0  ...               0     0         0\n",
            "\n",
            "[5 rows x 1918 columns]\n"
          ]
        }
      ]
    },
    {
      "cell_type": "code",
      "metadata": {
        "colab": {
          "base_uri": "https://localhost:8080/"
        },
        "id": "y-i83JaRDO4u",
        "outputId": "3ad85144-0893-4bde-dc77-7a0e6aa152fe"
      },
      "source": [
        "(BOW_link_domain_name == 0).sum(axis=1)"
      ],
      "execution_count": null,
      "outputs": [
        {
          "output_type": "execute_result",
          "data": {
            "text/plain": [
              "0       1915\n",
              "1       1916\n",
              "2       1916\n",
              "3       1916\n",
              "4       1915\n",
              "        ... \n",
              "7135    1916\n",
              "7136    1916\n",
              "7137    1915\n",
              "7138    1915\n",
              "7139    1916\n",
              "Length: 7140, dtype: int64"
            ]
          },
          "metadata": {},
          "execution_count": 32
        }
      ]
    },
    {
      "cell_type": "code",
      "metadata": {
        "id": "FlwwhmgyCUd0"
      },
      "source": [
        "BOW_link_domain_name.to_csv(\"BOW_link_domain_name.csv\",index=False)"
      ],
      "execution_count": null,
      "outputs": []
    },
    {
      "cell_type": "code",
      "metadata": {
        "id": "v8z0TZYyIG9r"
      },
      "source": [
        "x = pd.read_csv(\"BOW_link_domain_name.csv\")"
      ],
      "execution_count": null,
      "outputs": []
    },
    {
      "cell_type": "code",
      "metadata": {
        "colab": {
          "base_uri": "https://localhost:8080/"
        },
        "id": "NIdxDAjwIWU-",
        "outputId": "d514625e-2161-4552-fa00-854c53513050"
      },
      "source": [
        "x.shape"
      ],
      "execution_count": null,
      "outputs": [
        {
          "output_type": "execute_result",
          "data": {
            "text/plain": [
              "(7140, 1918)"
            ]
          },
          "metadata": {},
          "execution_count": 46
        }
      ]
    },
    {
      "cell_type": "code",
      "metadata": {
        "colab": {
          "base_uri": "https://localhost:8080/"
        },
        "id": "vQjMPqugE1z4",
        "outputId": "60be186c-0ca8-48ce-b9a9-b5416831a9e9"
      },
      "source": [
        "import pandas as pd\n",
        "from sklearn.feature_extraction.text import CountVectorizer, TfidfVectorizer\n",
        "CountVec = CountVectorizer()\n",
        "#transform\n",
        "Count_data = CountVec.fit_transform(data['alt_content_names'])\n",
        "BOW_content_name\n",
        "#create dataframe\n",
        "BOW_alt_content_names=pd.DataFrame(Count_data.toarray(),columns=CountVec.get_feature_names())\n",
        "print(BOW_alt_content_names.head())\n",
        "BOW_alt_content_names.to_csv(\"BOW_alt_content_names.csv\",index=False)"
      ],
      "execution_count": null,
      "outputs": [
        {
          "output_type": "stream",
          "name": "stdout",
          "text": [
            "   2019  30  aasmaan  abo  akhera  ...  مشوار  من  نظرة  والجنوب  يوم\n",
            "0     0   0        0    0       0  ...      0   0     0        0    0\n",
            "1     0   0        0    0       0  ...      0   0     0        0    0\n",
            "2     0   0        0    0       0  ...      0   0     0        0    0\n",
            "3     0   0        0    0       0  ...      0   0     0        0    0\n",
            "4     0   0        0    0       0  ...      0   1     0        0    0\n",
            "\n",
            "[5 rows x 112 columns]\n"
          ]
        }
      ]
    },
    {
      "cell_type": "code",
      "metadata": {
        "colab": {
          "base_uri": "https://localhost:8080/"
        },
        "id": "Lfvv74trGhlr",
        "outputId": "4e20b82a-891f-4d9b-94de-83a79cbd16d5"
      },
      "source": [
        "m = pd.read_csv(\"BOW_alt_content_names.csv\")\n",
        "m.shape"
      ],
      "execution_count": null,
      "outputs": [
        {
          "output_type": "execute_result",
          "data": {
            "text/plain": [
              "(7140, 112)"
            ]
          },
          "metadata": {},
          "execution_count": 40
        }
      ]
    },
    {
      "cell_type": "code",
      "metadata": {
        "colab": {
          "base_uri": "https://localhost:8080/"
        },
        "id": "vPAfKRGVI3Zz",
        "outputId": "d3013cea-88ce-4818-9785-a167e00ca0da"
      },
      "source": [
        "import pandas as pd\n",
        "from sklearn.feature_extraction.text import CountVectorizer, TfidfVectorizer\n",
        "CountVec = CountVectorizer()\n",
        "#transform\n",
        "Count_data = CountVec.fit_transform(data['campaign_name'])\n",
        "BOW_content_name\n",
        "#create dataframe\n",
        "BOW_campaign_name=pd.DataFrame(Count_data.toarray(),columns=CountVec.get_feature_names())\n",
        "print(BOW_campaign_name.head())\n",
        "BOW_campaign_name.to_csv(\"BOW_campaign_name.csv\",index=False)"
      ],
      "execution_count": null,
      "outputs": [
        {
          "output_type": "stream",
          "name": "stdout",
          "text": [
            "   by  day  dreaming  eltalbat  forbidden  ...  نور  وفيني  ونصيبي  يتخطى  يوم\n",
            "0   0    0         0         0          0  ...    0      0       0      0    0\n",
            "1   0    0         0         0          0  ...    0      0       1      0    0\n",
            "2   0    0         0         0          0  ...    0      0       0      0    0\n",
            "3   0    0         0         0          0  ...    0      0       0      0    0\n",
            "4   0    0         0         0          0  ...    0      0       0      0    0\n",
            "\n",
            "[5 rows x 87 columns]\n"
          ]
        }
      ]
    },
    {
      "cell_type": "code",
      "metadata": {
        "colab": {
          "base_uri": "https://localhost:8080/"
        },
        "id": "ZZZftog9JKav",
        "outputId": "6f778ca7-ca77-44cb-8a15-5cdf590a9c5b"
      },
      "source": [
        "n = pd.read_csv(\"BOW_campaign_name.csv\")\n",
        "n.shape"
      ],
      "execution_count": null,
      "outputs": [
        {
          "output_type": "execute_result",
          "data": {
            "text/plain": [
              "(7140, 87)"
            ]
          },
          "metadata": {},
          "execution_count": 42
        }
      ]
    }
  ]
}