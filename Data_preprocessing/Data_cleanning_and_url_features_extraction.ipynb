{
  "nbformat": 4,
  "nbformat_minor": 0,
  "metadata": {
    "colab": {
      "name": "Copy of Data-cleanning_and_url_features_extraction.ipynb",
      "provenance": [],
      "collapsed_sections": []
    },
    "kernelspec": {
      "display_name": "Python 3",
      "name": "python3"
    },
    "language_info": {
      "name": "python"
    }
  },
  "cells": [
    {
      "cell_type": "code",
      "metadata": {
        "colab": {
          "base_uri": "https://localhost:8080/"
        },
        "id": "9yS__NiLPF_v",
        "outputId": "44f7702a-965f-466a-8220-c41103372559"
      },
      "source": [
        "from google.colab import drive\n",
        "drive.mount('/content/gdrive')"
      ],
      "execution_count": null,
      "outputs": [
        {
          "output_type": "stream",
          "name": "stdout",
          "text": [
            "Mounted at /content/gdrive\n"
          ]
        }
      ]
    },
    {
      "cell_type": "code",
      "metadata": {
        "colab": {
          "base_uri": "https://localhost:8080/"
        },
        "id": "jaR2E29YPo_w",
        "outputId": "fea09ff9-433b-4f9a-883f-d5d06f56b581"
      },
      "source": [
        "#get libraries.\n",
        "import numpy as np\n",
        "import pandas as pd\n",
        "print('Done')"
      ],
      "execution_count": null,
      "outputs": [
        {
          "output_type": "stream",
          "name": "stdout",
          "text": [
            "Done\n"
          ]
        }
      ]
    },
    {
      "cell_type": "code",
      "metadata": {
        "id": "EHCs1r8VSsnG"
      },
      "source": [
        "data = pd.DataFrame(pd.read_excel(\"/content/gdrive/MyDrive/Links_Classification_Task.xlsx\"))"
      ],
      "execution_count": null,
      "outputs": []
    },
    {
      "cell_type": "code",
      "metadata": {
        "colab": {
          "base_uri": "https://localhost:8080/"
        },
        "id": "O0rGnu9FSXjm",
        "outputId": "184f52fb-8e51-47a8-a808-a763860beaff"
      },
      "source": [
        "print(data.columns)"
      ],
      "execution_count": null,
      "outputs": [
        {
          "name": "stdout",
          "output_type": "stream",
          "text": [
            "Index(['link_id', 'page_source_path', 'link_url', 'link_domain_name',\n",
            "       'content_name', 'trans_content_name', 'alt_content_names',\n",
            "       'campaign_name', 'number_of_episodes', 'class'],\n",
            "      dtype='object')\n"
          ]
        }
      ]
    },
    {
      "cell_type": "code",
      "metadata": {
        "colab": {
          "base_uri": "https://localhost:8080/",
          "height": 295
        },
        "id": "bZNj4wjIQD9n",
        "outputId": "4e4ba244-9a42-4bc3-bd90-74c3e6c582ed"
      },
      "source": [
        "#Let's keep only the columns that we're going to use\n",
        "#data = data[['link_url','class']]\n",
        "data.head()"
      ],
      "execution_count": null,
      "outputs": [
        {
          "data": {
            "text/html": [
              "<div>\n",
              "<style scoped>\n",
              "    .dataframe tbody tr th:only-of-type {\n",
              "        vertical-align: middle;\n",
              "    }\n",
              "\n",
              "    .dataframe tbody tr th {\n",
              "        vertical-align: top;\n",
              "    }\n",
              "\n",
              "    .dataframe thead th {\n",
              "        text-align: right;\n",
              "    }\n",
              "</style>\n",
              "<table border=\"1\" class=\"dataframe\">\n",
              "  <thead>\n",
              "    <tr style=\"text-align: right;\">\n",
              "      <th></th>\n",
              "      <th>link_id</th>\n",
              "      <th>page_source_path</th>\n",
              "      <th>link_url</th>\n",
              "      <th>link_domain_name</th>\n",
              "      <th>content_name</th>\n",
              "      <th>trans_content_name</th>\n",
              "      <th>alt_content_names</th>\n",
              "      <th>campaign_name</th>\n",
              "      <th>number_of_episodes</th>\n",
              "      <th>class</th>\n",
              "    </tr>\n",
              "  </thead>\n",
              "  <tbody>\n",
              "    <tr>\n",
              "      <th>0</th>\n",
              "      <td>2554338</td>\n",
              "      <td>doms/a068feac8d33e1d11379987dfef4beefd0a6e1ef....</td>\n",
              "      <td>https://video.aflamyeg.com/watch.php?vid=9d92e...</td>\n",
              "      <td>video.aflamyeg.com</td>\n",
              "      <td>البرنس</td>\n",
              "      <td>El Prince</td>\n",
              "      <td>Al Prince,El Prince</td>\n",
              "      <td>RH_Campaign_البرنس</td>\n",
              "      <td>30</td>\n",
              "      <td>related</td>\n",
              "    </tr>\n",
              "    <tr>\n",
              "      <th>1</th>\n",
              "      <td>2746768</td>\n",
              "      <td>doms/030946acbb0c3257000915fa36f98b34cc1ed349....</td>\n",
              "      <td>https://b.brstej.com/watch.php?vid=a3fae3d8b</td>\n",
              "      <td>b.brstej.com</td>\n",
              "      <td>قدرى و نصيبى</td>\n",
              "      <td>NaN</td>\n",
              "      <td>Dilli Wali Thakur Gurls</td>\n",
              "      <td>Qadari w Nasibi  -قدرى ونصيبي</td>\n",
              "      <td>22</td>\n",
              "      <td>related</td>\n",
              "    </tr>\n",
              "    <tr>\n",
              "      <th>2</th>\n",
              "      <td>2439834</td>\n",
              "      <td>doms/e1cbb7a8f40068d13bf16392618497138318e14b....</td>\n",
              "      <td>https://www.alfantime.com/video/watch.php?vid=...</td>\n",
              "      <td>alfantime.com</td>\n",
              "      <td>The Handmaid’s Tale</td>\n",
              "      <td>NaN</td>\n",
              "      <td>حكاية أمة,قصة الخادمة</td>\n",
              "      <td>The Handmaid’s Tale</td>\n",
              "      <td>46</td>\n",
              "      <td>related</td>\n",
              "    </tr>\n",
              "    <tr>\n",
              "      <th>3</th>\n",
              "      <td>2554434</td>\n",
              "      <td>doms/26a072b1a330967cbae92c49c343b3a91f1ecf91....</td>\n",
              "      <td>https://www.fou2sh.net/video/3d48f74d0</td>\n",
              "      <td>fou2sh.net</td>\n",
              "      <td>البرنس</td>\n",
              "      <td>El Prince</td>\n",
              "      <td>Al Prince,El Prince</td>\n",
              "      <td>RH_Campaign_البرنس</td>\n",
              "      <td>30</td>\n",
              "      <td>related</td>\n",
              "    </tr>\n",
              "    <tr>\n",
              "      <th>4</th>\n",
              "      <td>2685117</td>\n",
              "      <td>doms/b04bdd3cbd554d838cbe63b94ecddefff170399e....</td>\n",
              "      <td>http://idxaljku.gkspiter.ru/21.html</td>\n",
              "      <td>idxaljku.gkspiter.ru</td>\n",
              "      <td>من أنا</td>\n",
              "      <td>NaN</td>\n",
              "      <td>من انا الهندى</td>\n",
              "      <td>من أنا</td>\n",
              "      <td>30</td>\n",
              "      <td>unrelated</td>\n",
              "    </tr>\n",
              "  </tbody>\n",
              "</table>\n",
              "</div>"
            ],
            "text/plain": [
              "   link_id  ...      class\n",
              "0  2554338  ...    related\n",
              "1  2746768  ...    related\n",
              "2  2439834  ...    related\n",
              "3  2554434  ...    related\n",
              "4  2685117  ...  unrelated\n",
              "\n",
              "[5 rows x 10 columns]"
            ]
          },
          "execution_count": 10,
          "metadata": {},
          "output_type": "execute_result"
        }
      ]
    },
    {
      "cell_type": "code",
      "metadata": {
        "colab": {
          "base_uri": "https://localhost:8080/"
        },
        "id": "zVUyLcYLTzJJ",
        "outputId": "1bfe11b8-4307-41f9-f91e-a6b555af0f30"
      },
      "source": [
        "#check empty data\n",
        "data.isnull().sum()"
      ],
      "execution_count": null,
      "outputs": [
        {
          "data": {
            "text/plain": [
              "link_id                  0\n",
              "page_source_path         0\n",
              "link_url                 0\n",
              "link_domain_name         0\n",
              "content_name             0\n",
              "trans_content_name    5085\n",
              "alt_content_names      851\n",
              "campaign_name            0\n",
              "number_of_episodes       0\n",
              "class                   10\n",
              "dtype: int64"
            ]
          },
          "execution_count": 11,
          "metadata": {},
          "output_type": "execute_result"
        }
      ]
    },
    {
      "cell_type": "code",
      "metadata": {
        "colab": {
          "base_uri": "https://localhost:8080/"
        },
        "id": "fMwve3OrUHPr",
        "outputId": "03ddd94f-cf39-42d1-dae7-044aaafe1bd6"
      },
      "source": [
        "len(data)"
      ],
      "execution_count": null,
      "outputs": [
        {
          "data": {
            "text/plain": [
              "8000"
            ]
          },
          "execution_count": 31,
          "metadata": {},
          "output_type": "execute_result"
        }
      ]
    },
    {
      "cell_type": "code",
      "metadata": {
        "id": "rW6_Bd9KVZi2"
      },
      "source": [
        "#drop trans_content_name as 5080 of 8000 of the data is nan so it will has bad effect on the dataset as it is condidered as noise \n",
        "data.drop('trans_content_name',axis='columns', inplace=True)"
      ],
      "execution_count": null,
      "outputs": []
    },
    {
      "cell_type": "code",
      "metadata": {
        "colab": {
          "base_uri": "https://localhost:8080/"
        },
        "id": "WrQBf7hzWxAt",
        "outputId": "050f9d8c-56b9-429a-ff34-00e938270bb4"
      },
      "source": [
        "data.isnull().sum()"
      ],
      "execution_count": null,
      "outputs": [
        {
          "data": {
            "text/plain": [
              "link_id                 0\n",
              "page_source_path        0\n",
              "link_url                0\n",
              "link_domain_name        0\n",
              "content_name            0\n",
              "alt_content_names     851\n",
              "campaign_name           0\n",
              "number_of_episodes      0\n",
              "class                  10\n",
              "dtype: int64"
            ]
          },
          "execution_count": 13,
          "metadata": {},
          "output_type": "execute_result"
        }
      ]
    },
    {
      "cell_type": "code",
      "metadata": {
        "id": "8aJMt0MLW-nH"
      },
      "source": [
        "#drop rows contain nan\n",
        "data.dropna(subset=['alt_content_names', 'class'], inplace=True)"
      ],
      "execution_count": null,
      "outputs": []
    },
    {
      "cell_type": "code",
      "metadata": {
        "colab": {
          "base_uri": "https://localhost:8080/"
        },
        "id": "62vJRUJuYZii",
        "outputId": "a9913b36-2486-451c-8ca0-bfa078d57861"
      },
      "source": [
        "data.isnull().sum()\n",
        "#len(data)"
      ],
      "execution_count": null,
      "outputs": [
        {
          "data": {
            "text/plain": [
              "link_id               0\n",
              "page_source_path      0\n",
              "link_url              0\n",
              "link_domain_name      0\n",
              "content_name          0\n",
              "alt_content_names     0\n",
              "campaign_name         0\n",
              "number_of_episodes    0\n",
              "class                 0\n",
              "dtype: int64"
            ]
          },
          "execution_count": 15,
          "metadata": {},
          "output_type": "execute_result"
        }
      ]
    },
    {
      "cell_type": "code",
      "metadata": {
        "colab": {
          "base_uri": "https://localhost:8080/"
        },
        "id": "XCGPcUDzYcIy",
        "outputId": "74e65a37-f276-43f5-8c54-a5ac9641a2d4"
      },
      "source": [
        "len(data)"
      ],
      "execution_count": null,
      "outputs": [
        {
          "data": {
            "text/plain": [
              "7140"
            ]
          },
          "execution_count": 16,
          "metadata": {},
          "output_type": "execute_result"
        }
      ]
    },
    {
      "cell_type": "code",
      "metadata": {
        "colab": {
          "base_uri": "https://localhost:8080/",
          "height": 295
        },
        "id": "U9I8S50AZCzs",
        "outputId": "d4e340cd-e52d-48cc-fecc-6d0e6fb975fc"
      },
      "source": [
        "data.head()"
      ],
      "execution_count": null,
      "outputs": [
        {
          "data": {
            "text/html": [
              "<div>\n",
              "<style scoped>\n",
              "    .dataframe tbody tr th:only-of-type {\n",
              "        vertical-align: middle;\n",
              "    }\n",
              "\n",
              "    .dataframe tbody tr th {\n",
              "        vertical-align: top;\n",
              "    }\n",
              "\n",
              "    .dataframe thead th {\n",
              "        text-align: right;\n",
              "    }\n",
              "</style>\n",
              "<table border=\"1\" class=\"dataframe\">\n",
              "  <thead>\n",
              "    <tr style=\"text-align: right;\">\n",
              "      <th></th>\n",
              "      <th>link_id</th>\n",
              "      <th>page_source_path</th>\n",
              "      <th>link_url</th>\n",
              "      <th>link_domain_name</th>\n",
              "      <th>content_name</th>\n",
              "      <th>alt_content_names</th>\n",
              "      <th>campaign_name</th>\n",
              "      <th>number_of_episodes</th>\n",
              "      <th>class</th>\n",
              "    </tr>\n",
              "  </thead>\n",
              "  <tbody>\n",
              "    <tr>\n",
              "      <th>0</th>\n",
              "      <td>2554338</td>\n",
              "      <td>doms/a068feac8d33e1d11379987dfef4beefd0a6e1ef....</td>\n",
              "      <td>https://video.aflamyeg.com/watch.php?vid=9d92e...</td>\n",
              "      <td>video.aflamyeg.com</td>\n",
              "      <td>البرنس</td>\n",
              "      <td>Al Prince,El Prince</td>\n",
              "      <td>RH_Campaign_البرنس</td>\n",
              "      <td>30</td>\n",
              "      <td>related</td>\n",
              "    </tr>\n",
              "    <tr>\n",
              "      <th>1</th>\n",
              "      <td>2746768</td>\n",
              "      <td>doms/030946acbb0c3257000915fa36f98b34cc1ed349....</td>\n",
              "      <td>https://b.brstej.com/watch.php?vid=a3fae3d8b</td>\n",
              "      <td>b.brstej.com</td>\n",
              "      <td>قدرى و نصيبى</td>\n",
              "      <td>Dilli Wali Thakur Gurls</td>\n",
              "      <td>Qadari w Nasibi  -قدرى ونصيبي</td>\n",
              "      <td>22</td>\n",
              "      <td>related</td>\n",
              "    </tr>\n",
              "    <tr>\n",
              "      <th>2</th>\n",
              "      <td>2439834</td>\n",
              "      <td>doms/e1cbb7a8f40068d13bf16392618497138318e14b....</td>\n",
              "      <td>https://www.alfantime.com/video/watch.php?vid=...</td>\n",
              "      <td>alfantime.com</td>\n",
              "      <td>The Handmaid’s Tale</td>\n",
              "      <td>حكاية أمة,قصة الخادمة</td>\n",
              "      <td>The Handmaid’s Tale</td>\n",
              "      <td>46</td>\n",
              "      <td>related</td>\n",
              "    </tr>\n",
              "    <tr>\n",
              "      <th>3</th>\n",
              "      <td>2554434</td>\n",
              "      <td>doms/26a072b1a330967cbae92c49c343b3a91f1ecf91....</td>\n",
              "      <td>https://www.fou2sh.net/video/3d48f74d0</td>\n",
              "      <td>fou2sh.net</td>\n",
              "      <td>البرنس</td>\n",
              "      <td>Al Prince,El Prince</td>\n",
              "      <td>RH_Campaign_البرنس</td>\n",
              "      <td>30</td>\n",
              "      <td>related</td>\n",
              "    </tr>\n",
              "    <tr>\n",
              "      <th>4</th>\n",
              "      <td>2685117</td>\n",
              "      <td>doms/b04bdd3cbd554d838cbe63b94ecddefff170399e....</td>\n",
              "      <td>http://idxaljku.gkspiter.ru/21.html</td>\n",
              "      <td>idxaljku.gkspiter.ru</td>\n",
              "      <td>من أنا</td>\n",
              "      <td>من انا الهندى</td>\n",
              "      <td>من أنا</td>\n",
              "      <td>30</td>\n",
              "      <td>unrelated</td>\n",
              "    </tr>\n",
              "  </tbody>\n",
              "</table>\n",
              "</div>"
            ],
            "text/plain": [
              "   link_id  ...      class\n",
              "0  2554338  ...    related\n",
              "1  2746768  ...    related\n",
              "2  2439834  ...    related\n",
              "3  2554434  ...    related\n",
              "4  2685117  ...  unrelated\n",
              "\n",
              "[5 rows x 9 columns]"
            ]
          },
          "execution_count": 18,
          "metadata": {},
          "output_type": "execute_result"
        }
      ]
    },
    {
      "cell_type": "code",
      "metadata": {
        "id": "hiqkl3OL1JBP"
      },
      "source": [
        "#covert class to 1 for related , 0 unrelated\n",
        "data = data.replace({'class': {'related': 1, \n",
        "                                'unrelated':0}})"
      ],
      "execution_count": null,
      "outputs": []
    },
    {
      "cell_type": "code",
      "metadata": {
        "colab": {
          "base_uri": "https://localhost:8080/",
          "height": 295
        },
        "id": "nkyK-O7Y2V5A",
        "outputId": "97881cba-510f-4577-e6f9-99129452a80e"
      },
      "source": [
        "data.head()"
      ],
      "execution_count": null,
      "outputs": [
        {
          "data": {
            "text/html": [
              "<div>\n",
              "<style scoped>\n",
              "    .dataframe tbody tr th:only-of-type {\n",
              "        vertical-align: middle;\n",
              "    }\n",
              "\n",
              "    .dataframe tbody tr th {\n",
              "        vertical-align: top;\n",
              "    }\n",
              "\n",
              "    .dataframe thead th {\n",
              "        text-align: right;\n",
              "    }\n",
              "</style>\n",
              "<table border=\"1\" class=\"dataframe\">\n",
              "  <thead>\n",
              "    <tr style=\"text-align: right;\">\n",
              "      <th></th>\n",
              "      <th>link_id</th>\n",
              "      <th>page_source_path</th>\n",
              "      <th>link_url</th>\n",
              "      <th>link_domain_name</th>\n",
              "      <th>content_name</th>\n",
              "      <th>alt_content_names</th>\n",
              "      <th>campaign_name</th>\n",
              "      <th>number_of_episodes</th>\n",
              "      <th>class</th>\n",
              "    </tr>\n",
              "  </thead>\n",
              "  <tbody>\n",
              "    <tr>\n",
              "      <th>0</th>\n",
              "      <td>2554338</td>\n",
              "      <td>doms/a068feac8d33e1d11379987dfef4beefd0a6e1ef....</td>\n",
              "      <td>https://video.aflamyeg.com/watch.php?vid=9d92e...</td>\n",
              "      <td>video.aflamyeg.com</td>\n",
              "      <td>البرنس</td>\n",
              "      <td>Al Prince,El Prince</td>\n",
              "      <td>RH_Campaign_البرنس</td>\n",
              "      <td>30</td>\n",
              "      <td>1</td>\n",
              "    </tr>\n",
              "    <tr>\n",
              "      <th>1</th>\n",
              "      <td>2746768</td>\n",
              "      <td>doms/030946acbb0c3257000915fa36f98b34cc1ed349....</td>\n",
              "      <td>https://b.brstej.com/watch.php?vid=a3fae3d8b</td>\n",
              "      <td>b.brstej.com</td>\n",
              "      <td>قدرى و نصيبى</td>\n",
              "      <td>Dilli Wali Thakur Gurls</td>\n",
              "      <td>Qadari w Nasibi  -قدرى ونصيبي</td>\n",
              "      <td>22</td>\n",
              "      <td>1</td>\n",
              "    </tr>\n",
              "    <tr>\n",
              "      <th>2</th>\n",
              "      <td>2439834</td>\n",
              "      <td>doms/e1cbb7a8f40068d13bf16392618497138318e14b....</td>\n",
              "      <td>https://www.alfantime.com/video/watch.php?vid=...</td>\n",
              "      <td>alfantime.com</td>\n",
              "      <td>The Handmaid’s Tale</td>\n",
              "      <td>حكاية أمة,قصة الخادمة</td>\n",
              "      <td>The Handmaid’s Tale</td>\n",
              "      <td>46</td>\n",
              "      <td>1</td>\n",
              "    </tr>\n",
              "    <tr>\n",
              "      <th>3</th>\n",
              "      <td>2554434</td>\n",
              "      <td>doms/26a072b1a330967cbae92c49c343b3a91f1ecf91....</td>\n",
              "      <td>https://www.fou2sh.net/video/3d48f74d0</td>\n",
              "      <td>fou2sh.net</td>\n",
              "      <td>البرنس</td>\n",
              "      <td>Al Prince,El Prince</td>\n",
              "      <td>RH_Campaign_البرنس</td>\n",
              "      <td>30</td>\n",
              "      <td>1</td>\n",
              "    </tr>\n",
              "    <tr>\n",
              "      <th>4</th>\n",
              "      <td>2685117</td>\n",
              "      <td>doms/b04bdd3cbd554d838cbe63b94ecddefff170399e....</td>\n",
              "      <td>http://idxaljku.gkspiter.ru/21.html</td>\n",
              "      <td>idxaljku.gkspiter.ru</td>\n",
              "      <td>من أنا</td>\n",
              "      <td>من انا الهندى</td>\n",
              "      <td>من أنا</td>\n",
              "      <td>30</td>\n",
              "      <td>0</td>\n",
              "    </tr>\n",
              "  </tbody>\n",
              "</table>\n",
              "</div>"
            ],
            "text/plain": [
              "   link_id  ... class\n",
              "0  2554338  ...     1\n",
              "1  2746768  ...     1\n",
              "2  2439834  ...     1\n",
              "3  2554434  ...     1\n",
              "4  2685117  ...     0\n",
              "\n",
              "[5 rows x 9 columns]"
            ]
          },
          "execution_count": 21,
          "metadata": {},
          "output_type": "execute_result"
        }
      ]
    },
    {
      "cell_type": "code",
      "metadata": {
        "id": "5wMQ-5dw2nJT"
      },
      "source": [
        "#get url data alone \n",
        "urldata =data.filter(['link_url'],axis=1)\n"
      ],
      "execution_count": null,
      "outputs": []
    },
    {
      "cell_type": "code",
      "metadata": {
        "colab": {
          "base_uri": "https://localhost:8080/",
          "height": 206
        },
        "id": "NrIiCw_Q3qOm",
        "outputId": "91582113-7a01-4cce-a391-daee0b63e42c"
      },
      "source": [
        "urldata.head()"
      ],
      "execution_count": null,
      "outputs": [
        {
          "data": {
            "text/html": [
              "<div>\n",
              "<style scoped>\n",
              "    .dataframe tbody tr th:only-of-type {\n",
              "        vertical-align: middle;\n",
              "    }\n",
              "\n",
              "    .dataframe tbody tr th {\n",
              "        vertical-align: top;\n",
              "    }\n",
              "\n",
              "    .dataframe thead th {\n",
              "        text-align: right;\n",
              "    }\n",
              "</style>\n",
              "<table border=\"1\" class=\"dataframe\">\n",
              "  <thead>\n",
              "    <tr style=\"text-align: right;\">\n",
              "      <th></th>\n",
              "      <th>link_url</th>\n",
              "    </tr>\n",
              "  </thead>\n",
              "  <tbody>\n",
              "    <tr>\n",
              "      <th>0</th>\n",
              "      <td>https://video.aflamyeg.com/watch.php?vid=9d92e...</td>\n",
              "    </tr>\n",
              "    <tr>\n",
              "      <th>1</th>\n",
              "      <td>https://b.brstej.com/watch.php?vid=a3fae3d8b</td>\n",
              "    </tr>\n",
              "    <tr>\n",
              "      <th>2</th>\n",
              "      <td>https://www.alfantime.com/video/watch.php?vid=...</td>\n",
              "    </tr>\n",
              "    <tr>\n",
              "      <th>3</th>\n",
              "      <td>https://www.fou2sh.net/video/3d48f74d0</td>\n",
              "    </tr>\n",
              "    <tr>\n",
              "      <th>4</th>\n",
              "      <td>http://idxaljku.gkspiter.ru/21.html</td>\n",
              "    </tr>\n",
              "  </tbody>\n",
              "</table>\n",
              "</div>"
            ],
            "text/plain": [
              "                                            link_url\n",
              "0  https://video.aflamyeg.com/watch.php?vid=9d92e...\n",
              "1       https://b.brstej.com/watch.php?vid=a3fae3d8b\n",
              "2  https://www.alfantime.com/video/watch.php?vid=...\n",
              "3             https://www.fou2sh.net/video/3d48f74d0\n",
              "4                http://idxaljku.gkspiter.ru/21.html"
            ]
          },
          "execution_count": 23,
          "metadata": {},
          "output_type": "execute_result"
        }
      ]
    },
    {
      "cell_type": "code",
      "metadata": {
        "id": "QKcIUr7W3wRv"
      },
      "source": [
        "#save urldata at csv file\n",
        "urldata.to_csv(\"urldata.csv\",index=False)\n",
        "#/content/gdrive/MyDrive/Digisay_task"
      ],
      "execution_count": null,
      "outputs": []
    },
    {
      "cell_type": "code",
      "metadata": {
        "id": "BUhVzfwf5DPY"
      },
      "source": [
        "page_source_path_data =data.filter(['page_source_path'],axis=1)"
      ],
      "execution_count": null,
      "outputs": []
    },
    {
      "cell_type": "code",
      "metadata": {
        "colab": {
          "base_uri": "https://localhost:8080/",
          "height": 206
        },
        "id": "DcFPX69f5O5W",
        "outputId": "ca708f99-2670-4355-dfc3-43fd14c41c86"
      },
      "source": [
        "page_source_path_data.head()"
      ],
      "execution_count": null,
      "outputs": [
        {
          "data": {
            "text/html": [
              "<div>\n",
              "<style scoped>\n",
              "    .dataframe tbody tr th:only-of-type {\n",
              "        vertical-align: middle;\n",
              "    }\n",
              "\n",
              "    .dataframe tbody tr th {\n",
              "        vertical-align: top;\n",
              "    }\n",
              "\n",
              "    .dataframe thead th {\n",
              "        text-align: right;\n",
              "    }\n",
              "</style>\n",
              "<table border=\"1\" class=\"dataframe\">\n",
              "  <thead>\n",
              "    <tr style=\"text-align: right;\">\n",
              "      <th></th>\n",
              "      <th>page_source_path</th>\n",
              "    </tr>\n",
              "  </thead>\n",
              "  <tbody>\n",
              "    <tr>\n",
              "      <th>0</th>\n",
              "      <td>doms/a068feac8d33e1d11379987dfef4beefd0a6e1ef....</td>\n",
              "    </tr>\n",
              "    <tr>\n",
              "      <th>1</th>\n",
              "      <td>doms/030946acbb0c3257000915fa36f98b34cc1ed349....</td>\n",
              "    </tr>\n",
              "    <tr>\n",
              "      <th>2</th>\n",
              "      <td>doms/e1cbb7a8f40068d13bf16392618497138318e14b....</td>\n",
              "    </tr>\n",
              "    <tr>\n",
              "      <th>3</th>\n",
              "      <td>doms/26a072b1a330967cbae92c49c343b3a91f1ecf91....</td>\n",
              "    </tr>\n",
              "    <tr>\n",
              "      <th>4</th>\n",
              "      <td>doms/b04bdd3cbd554d838cbe63b94ecddefff170399e....</td>\n",
              "    </tr>\n",
              "  </tbody>\n",
              "</table>\n",
              "</div>"
            ],
            "text/plain": [
              "                                    page_source_path\n",
              "0  doms/a068feac8d33e1d11379987dfef4beefd0a6e1ef....\n",
              "1  doms/030946acbb0c3257000915fa36f98b34cc1ed349....\n",
              "2  doms/e1cbb7a8f40068d13bf16392618497138318e14b....\n",
              "3  doms/26a072b1a330967cbae92c49c343b3a91f1ecf91....\n",
              "4  doms/b04bdd3cbd554d838cbe63b94ecddefff170399e...."
            ]
          },
          "execution_count": 28,
          "metadata": {},
          "output_type": "execute_result"
        }
      ]
    },
    {
      "cell_type": "code",
      "metadata": {
        "id": "GTz5MolU5RrA"
      },
      "source": [
        "page_source_path_data.to_csv(\"page_source_path_data.csv\",index=False)"
      ],
      "execution_count": null,
      "outputs": []
    },
    {
      "cell_type": "code",
      "metadata": {
        "id": "1nF6BHiZ5fxq"
      },
      "source": [
        "#extract feature from url data"
      ],
      "execution_count": null,
      "outputs": []
    },
    {
      "cell_type": "code",
      "metadata": {
        "colab": {
          "base_uri": "https://localhost:8080/"
        },
        "id": "-b7gLPbG5jr5",
        "outputId": "c7de05f4-a76a-4f56-ed4c-f949300b6027"
      },
      "source": [
        "!pip install python-whois"
      ],
      "execution_count": null,
      "outputs": [
        {
          "output_type": "stream",
          "name": "stdout",
          "text": [
            "Collecting python-whois\n",
            "  Downloading python-whois-0.7.3.tar.gz (91 kB)\n",
            "\u001b[?25l\r\u001b[K     |███▋                            | 10 kB 24.8 MB/s eta 0:00:01\r\u001b[K     |███████▏                        | 20 kB 33.0 MB/s eta 0:00:01\r\u001b[K     |██████████▊                     | 30 kB 35.1 MB/s eta 0:00:01\r\u001b[K     |██████████████▎                 | 40 kB 35.0 MB/s eta 0:00:01\r\u001b[K     |██████████████████              | 51 kB 36.0 MB/s eta 0:00:01\r\u001b[K     |█████████████████████▌          | 61 kB 38.4 MB/s eta 0:00:01\r\u001b[K     |█████████████████████████       | 71 kB 35.4 MB/s eta 0:00:01\r\u001b[K     |████████████████████████████▋   | 81 kB 37.3 MB/s eta 0:00:01\r\u001b[K     |████████████████████████████████| 91 kB 10.8 MB/s \n",
            "\u001b[?25hRequirement already satisfied: future in /usr/local/lib/python3.7/dist-packages (from python-whois) (0.16.0)\n",
            "Building wheels for collected packages: python-whois\n",
            "  Building wheel for python-whois (setup.py) ... \u001b[?25l\u001b[?25hdone\n",
            "  Created wheel for python-whois: filename=python_whois-0.7.3-py3-none-any.whl size=87721 sha256=bb1c245feeeb5a7f10a364a758f10da1464a877f521e4644428b828f557c029d\n",
            "  Stored in directory: /root/.cache/pip/wheels/11/05/f7/895ce5a73665f77c8274a7d55e34fb3e6b4abbb9a7637e215b\n",
            "Successfully built python-whois\n",
            "Installing collected packages: python-whois\n",
            "Successfully installed python-whois-0.7.3\n"
          ]
        }
      ]
    },
    {
      "cell_type": "code",
      "metadata": {
        "colab": {
          "base_uri": "https://localhost:8080/"
        },
        "id": "3gZE_KVA5n_C",
        "outputId": "5d19208f-0d96-44d0-d67f-89a60e414e1e"
      },
      "source": [
        "!pip install tldextract"
      ],
      "execution_count": null,
      "outputs": [
        {
          "output_type": "stream",
          "name": "stdout",
          "text": [
            "Collecting tldextract\n",
            "  Downloading tldextract-3.1.2-py2.py3-none-any.whl (87 kB)\n",
            "\u001b[?25l\r\u001b[K     |███▊                            | 10 kB 27.7 MB/s eta 0:00:01\r\u001b[K     |███████▌                        | 20 kB 32.0 MB/s eta 0:00:01\r\u001b[K     |███████████▎                    | 30 kB 34.0 MB/s eta 0:00:01\r\u001b[K     |███████████████                 | 40 kB 34.8 MB/s eta 0:00:01\r\u001b[K     |██████████████████▉             | 51 kB 35.7 MB/s eta 0:00:01\r\u001b[K     |██████████████████████▋         | 61 kB 37.0 MB/s eta 0:00:01\r\u001b[K     |██████████████████████████▍     | 71 kB 36.7 MB/s eta 0:00:01\r\u001b[K     |██████████████████████████████  | 81 kB 39.1 MB/s eta 0:00:01\r\u001b[K     |████████████████████████████████| 87 kB 6.7 MB/s \n",
            "\u001b[?25hRequirement already satisfied: requests>=2.1.0 in /usr/local/lib/python3.7/dist-packages (from tldextract) (2.23.0)\n",
            "Collecting requests-file>=1.4\n",
            "  Downloading requests_file-1.5.1-py2.py3-none-any.whl (3.7 kB)\n",
            "Requirement already satisfied: idna in /usr/local/lib/python3.7/dist-packages (from tldextract) (2.10)\n",
            "Requirement already satisfied: filelock>=3.0.8 in /usr/local/lib/python3.7/dist-packages (from tldextract) (3.0.12)\n",
            "Requirement already satisfied: chardet<4,>=3.0.2 in /usr/local/lib/python3.7/dist-packages (from requests>=2.1.0->tldextract) (3.0.4)\n",
            "Requirement already satisfied: urllib3!=1.25.0,!=1.25.1,<1.26,>=1.21.1 in /usr/local/lib/python3.7/dist-packages (from requests>=2.1.0->tldextract) (1.24.3)\n",
            "Requirement already satisfied: certifi>=2017.4.17 in /usr/local/lib/python3.7/dist-packages (from requests>=2.1.0->tldextract) (2021.5.30)\n",
            "Requirement already satisfied: six in /usr/local/lib/python3.7/dist-packages (from requests-file>=1.4->tldextract) (1.15.0)\n",
            "Installing collected packages: requests-file, tldextract\n",
            "Successfully installed requests-file-1.5.1 tldextract-3.1.2\n"
          ]
        }
      ]
    },
    {
      "cell_type": "code",
      "metadata": {
        "id": "TazQqV-N5tCR"
      },
      "source": [
        "import whois\n",
        "import datetime\n",
        "from os.path import splitext\n",
        "import tldextract\n",
        "from urllib.parse import urlparse"
      ],
      "execution_count": null,
      "outputs": []
    },
    {
      "cell_type": "code",
      "metadata": {
        "id": "WXs7jlzl5wrc"
      },
      "source": [
        "#function to perform whois on given url\n",
        "def perform_whois(url):\n",
        "    try:\n",
        "        whois_result = whois.whois(url)\n",
        "        return whois_result\n",
        "    except Exception:\n",
        "        return False"
      ],
      "execution_count": null,
      "outputs": []
    },
    {
      "cell_type": "code",
      "metadata": {
        "id": "Dtv7PyS66IM9"
      },
      "source": [
        "#function to fetch the website age in days using URL created_date\n",
        "def get_registered_date_in_days(whois_result):\n",
        "    if(whois_result!=False):\n",
        "        created_date = whois_result.creation_date\n",
        "        if((created_date is not None) and (type(created_date)!=str)):\n",
        "            if(type(created_date)==list):\n",
        "                created_date=created_date[0]\n",
        "            today_date=datetime.datetime.now()\n",
        "            days = (today_date-created_date).days\n",
        "            return days\n",
        "        else:\n",
        "            return -1\n",
        "    else:\n",
        "        return -1"
      ],
      "execution_count": null,
      "outputs": []
    },
    {
      "cell_type": "code",
      "metadata": {
        "id": "5niwRSYh6KwD"
      },
      "source": [
        "#function to fetch the website expiry date in days using URL expiration_date\n",
        "def get_expiration_date_in_days(whois_result):\n",
        "    if(whois_result!=False):\n",
        "        expiration_date = whois_result.expiration_date\n",
        "        if((expiration_date is not None) and (type(expiration_date)!=str)):\n",
        "            if(type(expiration_date)==list):\n",
        "                expiration_date = expiration_date[0]\n",
        "            today_date=datetime.datetime.now()\n",
        "            days = (expiration_date-today_date).days\n",
        "            return days\n",
        "        else:\n",
        "            return -1\n",
        "    else:\n",
        "        return -1"
      ],
      "execution_count": null,
      "outputs": []
    },
    {
      "cell_type": "code",
      "metadata": {
        "id": "zSBu3Hd16NSn"
      },
      "source": [
        "#function to fetch the website's last updated date in days using URL updated_date\n",
        "def get_updated_date_in_days(whois_result):\n",
        "    if(whois_result!=False):\n",
        "        updated_date = whois_result.updated_date\n",
        "        if((updated_date is not None) and (type(updated_date)!=str)):\n",
        "            if(type(updated_date)==list):\n",
        "                updated_date = updated_date[0]\n",
        "            today_date=datetime.datetime.now()\n",
        "            days = (today_date-updated_date).days\n",
        "            return days\n",
        "        else:\n",
        "            return -1\n",
        "    else:\n",
        "        return -1"
      ],
      "execution_count": null,
      "outputs": []
    },
    {
      "cell_type": "code",
      "metadata": {
        "id": "udJ6PI2B6Xg4"
      },
      "source": [
        "def get_dot_count(url):\n",
        "    return url.count('.')"
      ],
      "execution_count": null,
      "outputs": []
    },
    {
      "cell_type": "code",
      "metadata": {
        "id": "9jv1DACx6Z34"
      },
      "source": [
        "def get_url_length(url):\n",
        "    return len(url)"
      ],
      "execution_count": null,
      "outputs": []
    },
    {
      "cell_type": "code",
      "metadata": {
        "id": "rKMlMjGx6ewv"
      },
      "source": [
        "def get_digit_count(url):\n",
        "    return sum(c.isdigit() for c in url)"
      ],
      "execution_count": null,
      "outputs": []
    },
    {
      "cell_type": "code",
      "metadata": {
        "id": "8RupjMak8KeF"
      },
      "source": [
        "\n",
        "def get_special_char_count(url):\n",
        "    count = 0\n",
        "    special_characters = [';','+=','_','?','=','&','[',']']\n",
        "    for each_letter in url:\n",
        "        if each_letter in special_characters:\n",
        "            count = count + 1\n",
        "    return count"
      ],
      "execution_count": null,
      "outputs": []
    },
    {
      "cell_type": "code",
      "metadata": {
        "id": "SLYcsKgH8MzT"
      },
      "source": [
        "def get_hyphen_count(url):\n",
        "    return url.count('-')"
      ],
      "execution_count": null,
      "outputs": []
    },
    {
      "cell_type": "code",
      "metadata": {
        "id": "ldxNzwtd8Pxd"
      },
      "source": [
        "def get_double_slash(url):\n",
        "    return url.count('//')"
      ],
      "execution_count": null,
      "outputs": []
    },
    {
      "cell_type": "code",
      "metadata": {
        "id": "9pK_9j-h8R2Q"
      },
      "source": [
        "def get_single_slash(url):\n",
        "    return url.count('/')"
      ],
      "execution_count": null,
      "outputs": []
    },
    {
      "cell_type": "code",
      "metadata": {
        "id": "QyYHN8ow8T2M"
      },
      "source": [
        "def get_at_the_rate(url):\n",
        "    return url.count('@')"
      ],
      "execution_count": null,
      "outputs": []
    },
    {
      "cell_type": "code",
      "metadata": {
        "id": "9hy4Oi4_8ZNq"
      },
      "source": [
        "def get_protocol(url):\n",
        "    protocol = urlparse(url)\n",
        "    if(protocol.scheme == 'http'):\n",
        "        return 1\n",
        "    else:\n",
        "        return 0"
      ],
      "execution_count": null,
      "outputs": []
    },
    {
      "cell_type": "code",
      "metadata": {
        "id": "t5e6k20X8b6u"
      },
      "source": [
        "def get_protocol_count(url):\n",
        "    http_count = url.count('http')\n",
        "    https_count = url.count('https')\n",
        "    http_count = http_count - https_count #correcting the miscount of https as http\n",
        "    return (http_count + https_count)"
      ],
      "execution_count": null,
      "outputs": []
    },
    {
      "cell_type": "code",
      "metadata": {
        "id": "BiJ-Pf-48eOm"
      },
      "source": [
        "registered_date_in_days = []\n",
        "expiration_date_in_days = []\n",
        "updated_date_in_days = []\n",
        "dotCount = []\n",
        "urlLength = []\n",
        "digitCount = []\n",
        "specialCharCount = []\n",
        "hyphenCount = []\n",
        "doubleSlashCount = []\n",
        "singleSlashCount = []\n",
        "atTheRateCount = []\n",
        "protocol = []\n",
        "protocolCount = []"
      ],
      "execution_count": null,
      "outputs": []
    },
    {
      "cell_type": "code",
      "metadata": {
        "id": "UnxCHxhEOL1s"
      },
      "source": [
        "urldata = pd.read_csv('/content/gdrive/MyDrive/urldata.csv')"
      ],
      "execution_count": null,
      "outputs": []
    },
    {
      "cell_type": "code",
      "metadata": {
        "colab": {
          "base_uri": "https://localhost:8080/",
          "height": 206
        },
        "id": "LEEOpmZlOh_q",
        "outputId": "145be4eb-8431-4aaf-b424-e7d0e6ed494e"
      },
      "source": [
        "urldata.head()"
      ],
      "execution_count": null,
      "outputs": [
        {
          "output_type": "execute_result",
          "data": {
            "text/html": [
              "<div>\n",
              "<style scoped>\n",
              "    .dataframe tbody tr th:only-of-type {\n",
              "        vertical-align: middle;\n",
              "    }\n",
              "\n",
              "    .dataframe tbody tr th {\n",
              "        vertical-align: top;\n",
              "    }\n",
              "\n",
              "    .dataframe thead th {\n",
              "        text-align: right;\n",
              "    }\n",
              "</style>\n",
              "<table border=\"1\" class=\"dataframe\">\n",
              "  <thead>\n",
              "    <tr style=\"text-align: right;\">\n",
              "      <th></th>\n",
              "      <th>link_url</th>\n",
              "    </tr>\n",
              "  </thead>\n",
              "  <tbody>\n",
              "    <tr>\n",
              "      <th>0</th>\n",
              "      <td>https://video.aflamyeg.com/watch.php?vid=9d92e...</td>\n",
              "    </tr>\n",
              "    <tr>\n",
              "      <th>1</th>\n",
              "      <td>https://b.brstej.com/watch.php?vid=a3fae3d8b</td>\n",
              "    </tr>\n",
              "    <tr>\n",
              "      <th>2</th>\n",
              "      <td>https://www.alfantime.com/video/watch.php?vid=...</td>\n",
              "    </tr>\n",
              "    <tr>\n",
              "      <th>3</th>\n",
              "      <td>https://www.fou2sh.net/video/3d48f74d0</td>\n",
              "    </tr>\n",
              "    <tr>\n",
              "      <th>4</th>\n",
              "      <td>http://idxaljku.gkspiter.ru/21.html</td>\n",
              "    </tr>\n",
              "  </tbody>\n",
              "</table>\n",
              "</div>"
            ],
            "text/plain": [
              "                                            link_url\n",
              "0  https://video.aflamyeg.com/watch.php?vid=9d92e...\n",
              "1       https://b.brstej.com/watch.php?vid=a3fae3d8b\n",
              "2  https://www.alfantime.com/video/watch.php?vid=...\n",
              "3             https://www.fou2sh.net/video/3d48f74d0\n",
              "4                http://idxaljku.gkspiter.ru/21.html"
            ]
          },
          "metadata": {},
          "execution_count": 26
        }
      ]
    },
    {
      "cell_type": "code",
      "metadata": {
        "id": "hsUq8TWu8gwo"
      },
      "source": [
        "def extract_all_features():\n",
        "    counter = 0\n",
        "    for url in urldata['link_url']:\n",
        "        counter = counter + 1\n",
        "        print(counter)\n",
        "        whois_result = perform_whois(url)\n",
        "        #Extracting whois features from URLs\n",
        "        registered_date_in_days.append(get_registered_date_in_days(whois_result))\n",
        "        expiration_date_in_days.append(get_expiration_date_in_days(whois_result))\n",
        "        updated_date_in_days.append(get_updated_date_in_days(whois_result))\n",
        "        #Extracting lexical features from URLs\n",
        "        dotCount.append(get_dot_count(url))\n",
        "        urlLength.append(get_url_length(url))\n",
        "        digitCount.append(get_digit_count(url))\n",
        "        specialCharCount.append(get_special_char_count(url))\n",
        "        hyphenCount.append(get_hyphen_count(url))\n",
        "        doubleSlashCount.append(get_double_slash(url))\n",
        "        singleSlashCount.append(get_single_slash(url))\n",
        "        atTheRateCount.append(get_at_the_rate(url))\n",
        "        protocol.append(get_protocol(url))\n",
        "        protocolCount.append(get_protocol_count(url))"
      ],
      "execution_count": null,
      "outputs": []
    },
    {
      "cell_type": "code",
      "metadata": {
        "id": "kmckZmhs8kPu"
      },
      "source": [
        "extract_all_features()"
      ],
      "execution_count": null,
      "outputs": []
    },
    {
      "cell_type": "code",
      "metadata": {
        "id": "LxHWZa3a9BqP",
        "colab": {
          "base_uri": "https://localhost:8080/"
        },
        "outputId": "ecaa69fd-28ce-448e-9d27-4b1630775192"
      },
      "source": [
        "print(f'Registered Date list length               : {len(registered_date_in_days)}')\n",
        "print(f'Expiration Date list length               : {len(expiration_date_in_days)}')\n",
        "print(f'Updation Date list length                 : {len(updated_date_in_days)}')\n",
        "print(f'Dot Count list length                     : {len(dotCount)}')\n",
        "print(f'URL Length list length                    : {len(urlLength)}')\n",
        "print(f'Digit Count list length                   : {len(digitCount)}')\n",
        "print(f'Special Character Count list length       : {len(specialCharCount)}')\n",
        "print(f'Hyphen Count list length                  : {len(hyphenCount)}')\n",
        "print(f'Double Slash Count list length            : {len(doubleSlashCount)}')\n",
        "print(f'Single Slash Count list length            : {len(singleSlashCount)}')\n",
        "print(f'At the Rate(@) Count list length          : {len(atTheRateCount)}')\n",
        "print(f'ProtocolName Count list length            : {len(protocol)}')\n",
        "print(f'Protocol Count list length                : {len(protocolCount)}')"
      ],
      "execution_count": null,
      "outputs": [
        {
          "output_type": "stream",
          "name": "stdout",
          "text": [
            "Registered Date list length               : 7140\n",
            "Expiration Date list length               : 7140\n",
            "Updation Date list length                 : 7140\n",
            "Dot Count list length                     : 7140\n",
            "URL Length list length                    : 7140\n",
            "Digit Count list length                   : 7140\n",
            "Special Character Count list length       : 7140\n",
            "Hyphen Count list length                  : 7140\n",
            "Double Slash Count list length            : 7140\n",
            "Single Slash Count list length            : 7140\n",
            "At the Rate(@) Count list length          : 7140\n",
            "ProtocolName Count list length            : 7140\n",
            "Protocol Count list length                : 7140\n"
          ]
        }
      ]
    },
    {
      "cell_type": "markdown",
      "metadata": {
        "id": "1hSPk0FDAj-x"
      },
      "source": [
        ""
      ]
    },
    {
      "cell_type": "code",
      "metadata": {
        "id": "28xA3uq_9KVU"
      },
      "source": [
        "features_df = pd.DataFrame()\n",
        "features_df['whois_regDate'] = registered_date_in_days\n",
        "features_df['whois_expDate'] = expiration_date_in_days\n",
        "features_df['whois_updatedDate'] = updated_date_in_days\n",
        "features_df[\"dot_count\"] = dotCount\n",
        "features_df[\"url_len\"] = urlLength\n",
        "features_df[\"digit_count\"] = digitCount\n",
        "features_df[\"special_count\"] = specialCharCount\n",
        "features_df[\"hyphen_count\"] = hyphenCount\n",
        "features_df[\"double_slash\"] = doubleSlashCount\n",
        "features_df[\"single_slash\"] = singleSlashCount\n",
        "features_df[\"at_the_rate\"] = atTheRateCount\n",
        "features_df[\"protocol\"] = protocol\n",
        "features_df[\"protocol_count\"] = protocolCount"
      ],
      "execution_count": null,
      "outputs": []
    },
    {
      "cell_type": "code",
      "metadata": {
        "id": "UUCtMVFM9PMB",
        "colab": {
          "base_uri": "https://localhost:8080/",
          "height": 206
        },
        "outputId": "adbb20ce-e28e-4532-8089-2a25a796e24d"
      },
      "source": [
        "features_df.head()"
      ],
      "execution_count": null,
      "outputs": [
        {
          "output_type": "execute_result",
          "data": {
            "text/html": [
              "<div>\n",
              "<style scoped>\n",
              "    .dataframe tbody tr th:only-of-type {\n",
              "        vertical-align: middle;\n",
              "    }\n",
              "\n",
              "    .dataframe tbody tr th {\n",
              "        vertical-align: top;\n",
              "    }\n",
              "\n",
              "    .dataframe thead th {\n",
              "        text-align: right;\n",
              "    }\n",
              "</style>\n",
              "<table border=\"1\" class=\"dataframe\">\n",
              "  <thead>\n",
              "    <tr style=\"text-align: right;\">\n",
              "      <th></th>\n",
              "      <th>whois_regDate</th>\n",
              "      <th>whois_expDate</th>\n",
              "      <th>whois_updatedDate</th>\n",
              "      <th>dot_count</th>\n",
              "      <th>url_len</th>\n",
              "      <th>digit_count</th>\n",
              "      <th>special_count</th>\n",
              "      <th>hyphen_count</th>\n",
              "      <th>double_slash</th>\n",
              "      <th>single_slash</th>\n",
              "      <th>at_the_rate</th>\n",
              "      <th>protocol</th>\n",
              "      <th>protocol_count</th>\n",
              "    </tr>\n",
              "  </thead>\n",
              "  <tbody>\n",
              "    <tr>\n",
              "      <th>0</th>\n",
              "      <td>723</td>\n",
              "      <td>7</td>\n",
              "      <td>314</td>\n",
              "      <td>3</td>\n",
              "      <td>50</td>\n",
              "      <td>7</td>\n",
              "      <td>2</td>\n",
              "      <td>0</td>\n",
              "      <td>1</td>\n",
              "      <td>3</td>\n",
              "      <td>0</td>\n",
              "      <td>0</td>\n",
              "      <td>1</td>\n",
              "    </tr>\n",
              "    <tr>\n",
              "      <th>1</th>\n",
              "      <td>1162</td>\n",
              "      <td>298</td>\n",
              "      <td>97</td>\n",
              "      <td>3</td>\n",
              "      <td>44</td>\n",
              "      <td>3</td>\n",
              "      <td>2</td>\n",
              "      <td>0</td>\n",
              "      <td>1</td>\n",
              "      <td>3</td>\n",
              "      <td>0</td>\n",
              "      <td>0</td>\n",
              "      <td>1</td>\n",
              "    </tr>\n",
              "    <tr>\n",
              "      <th>2</th>\n",
              "      <td>1268</td>\n",
              "      <td>192</td>\n",
              "      <td>58</td>\n",
              "      <td>3</td>\n",
              "      <td>55</td>\n",
              "      <td>7</td>\n",
              "      <td>2</td>\n",
              "      <td>0</td>\n",
              "      <td>1</td>\n",
              "      <td>4</td>\n",
              "      <td>0</td>\n",
              "      <td>0</td>\n",
              "      <td>1</td>\n",
              "    </tr>\n",
              "    <tr>\n",
              "      <th>3</th>\n",
              "      <td>-1</td>\n",
              "      <td>-1</td>\n",
              "      <td>-1</td>\n",
              "      <td>2</td>\n",
              "      <td>38</td>\n",
              "      <td>7</td>\n",
              "      <td>0</td>\n",
              "      <td>0</td>\n",
              "      <td>1</td>\n",
              "      <td>4</td>\n",
              "      <td>0</td>\n",
              "      <td>0</td>\n",
              "      <td>1</td>\n",
              "    </tr>\n",
              "    <tr>\n",
              "      <th>4</th>\n",
              "      <td>-1</td>\n",
              "      <td>-1</td>\n",
              "      <td>-1</td>\n",
              "      <td>3</td>\n",
              "      <td>35</td>\n",
              "      <td>2</td>\n",
              "      <td>0</td>\n",
              "      <td>0</td>\n",
              "      <td>1</td>\n",
              "      <td>3</td>\n",
              "      <td>0</td>\n",
              "      <td>1</td>\n",
              "      <td>1</td>\n",
              "    </tr>\n",
              "  </tbody>\n",
              "</table>\n",
              "</div>"
            ],
            "text/plain": [
              "   whois_regDate  whois_expDate  ...  protocol  protocol_count\n",
              "0            723              7  ...         0               1\n",
              "1           1162            298  ...         0               1\n",
              "2           1268            192  ...         0               1\n",
              "3             -1             -1  ...         0               1\n",
              "4             -1             -1  ...         1               1\n",
              "\n",
              "[5 rows x 13 columns]"
            ]
          },
          "metadata": {},
          "execution_count": 31
        }
      ]
    },
    {
      "cell_type": "code",
      "metadata": {
        "id": "1w8Mdlxv9UV0",
        "colab": {
          "base_uri": "https://localhost:8080/"
        },
        "outputId": "3c40e7c5-dd08-46ce-a5f9-7488e584933d"
      },
      "source": [
        "features_df.shape"
      ],
      "execution_count": null,
      "outputs": [
        {
          "output_type": "execute_result",
          "data": {
            "text/plain": [
              "(7140, 13)"
            ]
          },
          "metadata": {},
          "execution_count": 32
        }
      ]
    },
    {
      "cell_type": "code",
      "metadata": {
        "id": "d8UK7Vez9Wpn"
      },
      "source": [
        "features_df.to_csv(\"features_url.csv\",index=False)"
      ],
      "execution_count": null,
      "outputs": []
    }
  ]
}