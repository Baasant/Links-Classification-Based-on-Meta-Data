{
  "nbformat": 4,
  "nbformat_minor": 0,
  "metadata": {
    "colab": {
      "name": "DL_model.ipynb",
      "provenance": [],
      "collapsed_sections": []
    },
    "kernelspec": {
      "name": "python3",
      "display_name": "Python 3"
    },
    "language_info": {
      "name": "python"
    }
  },
  "cells": [
    {
      "cell_type": "code",
      "metadata": {
        "colab": {
          "base_uri": "https://localhost:8080/"
        },
        "id": "UyC6G5MhVVPP",
        "outputId": "96f52d24-3108-4ce7-9779-443c759479f5"
      },
      "source": [
        "from google.colab import drive\n",
        "drive.mount('/content/gdrive')"
      ],
      "execution_count": null,
      "outputs": [
        {
          "output_type": "stream",
          "name": "stdout",
          "text": [
            "Mounted at /content/gdrive\n"
          ]
        }
      ]
    },
    {
      "cell_type": "code",
      "metadata": {
        "id": "q_osX2oDXTgl"
      },
      "source": [
        "x=pd.read_csv('/content/gdrive/MyDrive/features_data.csv')\n",
        "y=pd.read_csv('/content/gdrive/MyDrive/classes.csv')"
      ],
      "execution_count": null,
      "outputs": []
    },
    {
      "cell_type": "code",
      "metadata": {
        "colab": {
          "base_uri": "https://localhost:8080/"
        },
        "id": "eWUudPalXwnY",
        "outputId": "a9742efd-bb45-4d3b-d272-b42951f19eb3"
      },
      "source": [
        "x.shape\n"
      ],
      "execution_count": null,
      "outputs": [
        {
          "output_type": "execute_result",
          "data": {
            "text/plain": [
              "(7140, 2200)"
            ]
          },
          "metadata": {},
          "execution_count": 8
        }
      ]
    },
    {
      "cell_type": "code",
      "metadata": {
        "colab": {
          "base_uri": "https://localhost:8080/"
        },
        "id": "Mi1wDmjXX28A",
        "outputId": "7a4d718e-44a7-4e68-d2a6-40be2b846ed9"
      },
      "source": [
        "y.shape"
      ],
      "execution_count": null,
      "outputs": [
        {
          "output_type": "execute_result",
          "data": {
            "text/plain": [
              "(7140, 1)"
            ]
          },
          "metadata": {},
          "execution_count": 9
        }
      ]
    },
    {
      "cell_type": "code",
      "metadata": {
        "id": "Mn-El0zJVpkS"
      },
      "source": [
        "#split data into train and test \n",
        "from sklearn.model_selection import train_test_split\n",
        "x_train, x_test, y_train, y_test = train_test_split( x, y, test_size=0.33, shuffle=True)"
      ],
      "execution_count": null,
      "outputs": []
    },
    {
      "cell_type": "code",
      "metadata": {
        "colab": {
          "base_uri": "https://localhost:8080/"
        },
        "id": "zL3QXaVAX9Q0",
        "outputId": "10baaea4-2fbc-4458-9783-fa2ab1fb8409"
      },
      "source": [
        "print(x_train.shape)\n",
        "print(x_test.shape)\n",
        "print(y_train.shape)\n",
        "print(y_test.shape)"
      ],
      "execution_count": null,
      "outputs": [
        {
          "output_type": "stream",
          "name": "stdout",
          "text": [
            "(4783, 2200)\n",
            "(2357, 2200)\n",
            "(4783, 1)\n",
            "(2357, 1)\n"
          ]
        }
      ]
    },
    {
      "cell_type": "code",
      "metadata": {
        "id": "eLKXC9Jpgtm9"
      },
      "source": [
        "#convert pandas dataframe ro array to feed it to keras model\n",
        "x_train_t=x_train.to_numpy()"
      ],
      "execution_count": null,
      "outputs": []
    },
    {
      "cell_type": "code",
      "metadata": {
        "id": "9O_uASI1h68c"
      },
      "source": [
        "y_train_t=y_train.to_numpy()"
      ],
      "execution_count": null,
      "outputs": []
    },
    {
      "cell_type": "code",
      "metadata": {
        "id": "y4UXRYsXh-mN"
      },
      "source": [
        "display(x_train_t)"
      ],
      "execution_count": null,
      "outputs": []
    },
    {
      "cell_type": "code",
      "metadata": {
        "colab": {
          "base_uri": "https://localhost:8080/"
        },
        "id": "Jgmaw8rkg-G6",
        "outputId": "861ea72c-f72d-4d21-8ce3-e093e75b7c84"
      },
      "source": [
        "x_train_t.shape"
      ],
      "execution_count": null,
      "outputs": [
        {
          "output_type": "execute_result",
          "data": {
            "text/plain": [
              "(4783, 2200)"
            ]
          },
          "metadata": {},
          "execution_count": 14
        }
      ]
    },
    {
      "cell_type": "code",
      "metadata": {
        "id": "kqPq0_dfi3lb"
      },
      "source": [
        "x_test_t=x_test.to_numpy()\n",
        "y_test_t=y_test.to_numpy()"
      ],
      "execution_count": null,
      "outputs": []
    },
    {
      "cell_type": "code",
      "metadata": {
        "id": "_9Nf9U18YRdg"
      },
      "source": [
        "#build DL model"
      ],
      "execution_count": null,
      "outputs": []
    },
    {
      "cell_type": "code",
      "metadata": {
        "colab": {
          "base_uri": "https://localhost:8080/"
        },
        "id": "6RwYQTJzYVfn",
        "outputId": "15c7ea56-2fdb-4b86-e50c-e5b962c32559"
      },
      "source": [
        "#library\n",
        "import numpy as np\n",
        "import pandas as pd\n",
        "import matplotlib.pyplot as plt\n",
        "import seaborn as sns\n",
        "%matplotlib inline\n",
        "\n",
        "# ignore Deprecation Warning\n",
        "import warnings\n",
        "warnings.filterwarnings(\"ignore\", category=DeprecationWarning) \n",
        "\n",
        "# Random Forest Regressor\n",
        "from sklearn.ensemble import RandomForestRegressor\n",
        "\n",
        "# Neural Network\n",
        "import keras \n",
        "from keras.models import Sequential \n",
        "from keras.layers import Dense\n",
        "print('done')"
      ],
      "execution_count": null,
      "outputs": [
        {
          "output_type": "stream",
          "name": "stdout",
          "text": [
            "done\n"
          ]
        }
      ]
    },
    {
      "cell_type": "code",
      "metadata": {
        "colab": {
          "base_uri": "https://localhost:8080/"
        },
        "id": "WmaIzVFSZj3E",
        "outputId": "4766acca-9e39-4a95-f788-d3a609c7fdf8"
      },
      "source": [
        "from keras.models import Sequential\n",
        "from keras.layers import Dense,Dropout\n",
        "\n",
        "classifier = Sequential()\n",
        "classifier.add(Dense(activation=\"relu\", input_dim=2200, units=2200, kernel_initializer=\"uniform\"))\n",
        "classifier.add(Dense(activation=\"relu\", units=60, kernel_initializer=\"uniform\"))\n",
        "classifier.add(Dropout(0.5))\n",
        "classifier.add(Dense(activation=\"relu\", units=11, kernel_initializer=\"uniform\"))\n",
        "classifier.add(Dropout(0.5))\n",
        "classifier.add(Dense(activation=\"relu\", units=5, kernel_initializer=\"uniform\"))\n",
        "classifier.add(Dense(activation=\"sigmoid\", units=1, kernel_initializer=\"uniform\"))\n",
        "classifier.compile(optimizer = 'adam', loss = 'binary_crossentropy', metrics = ['accuracy'])\n",
        "classifier.summary()"
      ],
      "execution_count": null,
      "outputs": [
        {
          "output_type": "stream",
          "name": "stdout",
          "text": [
            "Model: \"sequential\"\n",
            "_________________________________________________________________\n",
            "Layer (type)                 Output Shape              Param #   \n",
            "=================================================================\n",
            "dense (Dense)                (None, 2200)              4842200   \n",
            "_________________________________________________________________\n",
            "dense_1 (Dense)              (None, 60)                132060    \n",
            "_________________________________________________________________\n",
            "dropout (Dropout)            (None, 60)                0         \n",
            "_________________________________________________________________\n",
            "dense_2 (Dense)              (None, 11)                671       \n",
            "_________________________________________________________________\n",
            "dropout_1 (Dropout)          (None, 11)                0         \n",
            "_________________________________________________________________\n",
            "dense_3 (Dense)              (None, 5)                 60        \n",
            "_________________________________________________________________\n",
            "dense_4 (Dense)              (None, 1)                 6         \n",
            "=================================================================\n",
            "Total params: 4,974,997\n",
            "Trainable params: 4,974,997\n",
            "Non-trainable params: 0\n",
            "_________________________________________________________________\n"
          ]
        }
      ]
    },
    {
      "cell_type": "code",
      "metadata": {
        "colab": {
          "base_uri": "https://localhost:8080/"
        },
        "id": "953gB1d693ym",
        "outputId": "493e6385-4f1e-4c07-b957-7cca7b9ec860"
      },
      "source": [
        "history=classifier.fit(x_train_t, y_train_t,validation_split=0.1, batch_size=32,epochs=100, verbose=1,shuffle=True)"
      ],
      "execution_count": null,
      "outputs": [
        {
          "output_type": "stream",
          "name": "stdout",
          "text": [
            "Epoch 1/100\n",
            "135/135 [==============================] - 4s 33ms/step - loss: 0.0892 - accuracy: 0.9554 - val_loss: 0.0652 - val_accuracy: 0.9666\n",
            "Epoch 2/100\n",
            "135/135 [==============================] - 4s 32ms/step - loss: 0.0903 - accuracy: 0.9566 - val_loss: 0.0688 - val_accuracy: 0.9645\n",
            "Epoch 3/100\n",
            "135/135 [==============================] - 4s 32ms/step - loss: 0.0849 - accuracy: 0.9586 - val_loss: 0.0781 - val_accuracy: 0.9624\n",
            "Epoch 4/100\n",
            "135/135 [==============================] - 4s 32ms/step - loss: 0.0890 - accuracy: 0.9586 - val_loss: 0.0785 - val_accuracy: 0.9645\n",
            "Epoch 5/100\n",
            "135/135 [==============================] - 4s 32ms/step - loss: 0.0895 - accuracy: 0.9540 - val_loss: 0.0764 - val_accuracy: 0.9666\n",
            "Epoch 6/100\n",
            "135/135 [==============================] - 4s 32ms/step - loss: 0.0881 - accuracy: 0.9570 - val_loss: 0.0797 - val_accuracy: 0.9582\n",
            "Epoch 7/100\n",
            "135/135 [==============================] - 4s 32ms/step - loss: 0.0883 - accuracy: 0.9568 - val_loss: 0.0778 - val_accuracy: 0.9603\n",
            "Epoch 8/100\n",
            "135/135 [==============================] - 4s 32ms/step - loss: 0.0837 - accuracy: 0.9603 - val_loss: 0.0785 - val_accuracy: 0.9624\n",
            "Epoch 9/100\n",
            "135/135 [==============================] - 4s 31ms/step - loss: 0.0806 - accuracy: 0.9589 - val_loss: 0.0812 - val_accuracy: 0.9645\n",
            "Epoch 10/100\n",
            "135/135 [==============================] - 4s 32ms/step - loss: 0.0846 - accuracy: 0.9579 - val_loss: 0.0942 - val_accuracy: 0.9624\n",
            "Epoch 11/100\n",
            "135/135 [==============================] - 4s 32ms/step - loss: 0.0827 - accuracy: 0.9579 - val_loss: 0.0954 - val_accuracy: 0.9582\n",
            "Epoch 12/100\n",
            "135/135 [==============================] - 4s 32ms/step - loss: 0.0848 - accuracy: 0.9572 - val_loss: 0.1084 - val_accuracy: 0.9582\n",
            "Epoch 13/100\n",
            "135/135 [==============================] - 4s 31ms/step - loss: 0.0868 - accuracy: 0.9572 - val_loss: 0.1125 - val_accuracy: 0.9562\n",
            "Epoch 14/100\n",
            "135/135 [==============================] - 4s 31ms/step - loss: 0.0888 - accuracy: 0.9566 - val_loss: 0.0945 - val_accuracy: 0.9645\n",
            "Epoch 15/100\n",
            "135/135 [==============================] - 4s 32ms/step - loss: 0.0856 - accuracy: 0.9568 - val_loss: 0.1099 - val_accuracy: 0.9541\n",
            "Epoch 16/100\n",
            "135/135 [==============================] - 4s 32ms/step - loss: 0.0842 - accuracy: 0.9570 - val_loss: 0.1155 - val_accuracy: 0.9541\n",
            "Epoch 17/100\n",
            "135/135 [==============================] - 4s 32ms/step - loss: 0.0858 - accuracy: 0.9586 - val_loss: 0.1188 - val_accuracy: 0.9520\n",
            "Epoch 18/100\n",
            "135/135 [==============================] - 4s 32ms/step - loss: 0.0863 - accuracy: 0.9563 - val_loss: 0.1421 - val_accuracy: 0.9562\n",
            "Epoch 19/100\n",
            "135/135 [==============================] - 4s 32ms/step - loss: 0.0789 - accuracy: 0.9600 - val_loss: 0.1419 - val_accuracy: 0.9603\n",
            "Epoch 20/100\n",
            "135/135 [==============================] - 4s 32ms/step - loss: 0.0814 - accuracy: 0.9570 - val_loss: 0.1300 - val_accuracy: 0.9624\n",
            "Epoch 21/100\n",
            "135/135 [==============================] - 4s 32ms/step - loss: 0.0879 - accuracy: 0.9582 - val_loss: 0.1221 - val_accuracy: 0.9687\n",
            "Epoch 22/100\n",
            "135/135 [==============================] - 4s 32ms/step - loss: 0.0819 - accuracy: 0.9605 - val_loss: 0.1234 - val_accuracy: 0.9666\n",
            "Epoch 23/100\n",
            "135/135 [==============================] - 4s 32ms/step - loss: 0.0838 - accuracy: 0.9589 - val_loss: 0.1272 - val_accuracy: 0.9541\n",
            "Epoch 24/100\n",
            "135/135 [==============================] - 4s 32ms/step - loss: 0.0799 - accuracy: 0.9589 - val_loss: 0.1579 - val_accuracy: 0.9520\n",
            "Epoch 25/100\n",
            "135/135 [==============================] - 4s 32ms/step - loss: 0.0784 - accuracy: 0.9617 - val_loss: 0.1684 - val_accuracy: 0.9541\n",
            "Epoch 26/100\n",
            "135/135 [==============================] - 4s 31ms/step - loss: 0.0808 - accuracy: 0.9582 - val_loss: 0.1529 - val_accuracy: 0.9520\n",
            "Epoch 27/100\n",
            "135/135 [==============================] - 4s 31ms/step - loss: 0.0821 - accuracy: 0.9584 - val_loss: 0.1486 - val_accuracy: 0.9520\n",
            "Epoch 28/100\n",
            "135/135 [==============================] - 4s 31ms/step - loss: 0.0811 - accuracy: 0.9589 - val_loss: 0.1497 - val_accuracy: 0.9541\n",
            "Epoch 29/100\n",
            "135/135 [==============================] - 4s 32ms/step - loss: 0.0834 - accuracy: 0.9591 - val_loss: 0.1478 - val_accuracy: 0.9520\n",
            "Epoch 30/100\n",
            "135/135 [==============================] - 4s 31ms/step - loss: 0.0800 - accuracy: 0.9619 - val_loss: 0.1473 - val_accuracy: 0.9520\n",
            "Epoch 31/100\n",
            "135/135 [==============================] - 4s 31ms/step - loss: 0.0819 - accuracy: 0.9603 - val_loss: 0.1425 - val_accuracy: 0.9562\n",
            "Epoch 32/100\n",
            "135/135 [==============================] - 4s 31ms/step - loss: 0.0803 - accuracy: 0.9619 - val_loss: 0.1559 - val_accuracy: 0.9562\n",
            "Epoch 33/100\n",
            "135/135 [==============================] - 4s 32ms/step - loss: 0.0817 - accuracy: 0.9589 - val_loss: 0.1467 - val_accuracy: 0.9582\n",
            "Epoch 34/100\n",
            "135/135 [==============================] - 4s 31ms/step - loss: 0.0808 - accuracy: 0.9600 - val_loss: 0.1437 - val_accuracy: 0.9582\n",
            "Epoch 35/100\n",
            "135/135 [==============================] - 4s 31ms/step - loss: 0.0792 - accuracy: 0.9566 - val_loss: 0.1809 - val_accuracy: 0.9562\n",
            "Epoch 36/100\n",
            "135/135 [==============================] - 4s 31ms/step - loss: 0.0784 - accuracy: 0.9596 - val_loss: 0.1811 - val_accuracy: 0.9541\n",
            "Epoch 37/100\n",
            "135/135 [==============================] - 4s 31ms/step - loss: 0.0769 - accuracy: 0.9591 - val_loss: 0.1904 - val_accuracy: 0.9562\n",
            "Epoch 38/100\n",
            "135/135 [==============================] - 4s 31ms/step - loss: 0.0888 - accuracy: 0.9559 - val_loss: 0.1494 - val_accuracy: 0.9541\n",
            "Epoch 39/100\n",
            "135/135 [==============================] - 4s 32ms/step - loss: 0.0845 - accuracy: 0.9568 - val_loss: 0.1873 - val_accuracy: 0.9603\n",
            "Epoch 40/100\n",
            "135/135 [==============================] - 4s 31ms/step - loss: 0.0807 - accuracy: 0.9603 - val_loss: 0.1667 - val_accuracy: 0.9582\n",
            "Epoch 41/100\n",
            "135/135 [==============================] - 4s 31ms/step - loss: 0.0801 - accuracy: 0.9596 - val_loss: 0.2040 - val_accuracy: 0.9562\n",
            "Epoch 42/100\n",
            "135/135 [==============================] - 4s 31ms/step - loss: 0.0789 - accuracy: 0.9572 - val_loss: 0.1859 - val_accuracy: 0.9582\n",
            "Epoch 43/100\n",
            "135/135 [==============================] - 4s 31ms/step - loss: 0.0808 - accuracy: 0.9603 - val_loss: 0.2001 - val_accuracy: 0.9603\n",
            "Epoch 44/100\n",
            "135/135 [==============================] - 4s 32ms/step - loss: 0.0814 - accuracy: 0.9584 - val_loss: 0.2029 - val_accuracy: 0.9562\n",
            "Epoch 45/100\n",
            "135/135 [==============================] - 4s 31ms/step - loss: 0.0847 - accuracy: 0.9596 - val_loss: 0.1492 - val_accuracy: 0.9603\n",
            "Epoch 46/100\n",
            "135/135 [==============================] - 4s 31ms/step - loss: 0.0804 - accuracy: 0.9596 - val_loss: 0.2431 - val_accuracy: 0.9582\n",
            "Epoch 47/100\n",
            "135/135 [==============================] - 4s 31ms/step - loss: 0.0807 - accuracy: 0.9603 - val_loss: 0.1629 - val_accuracy: 0.9645\n",
            "Epoch 48/100\n",
            "135/135 [==============================] - 4s 32ms/step - loss: 0.0800 - accuracy: 0.9619 - val_loss: 0.1639 - val_accuracy: 0.9603\n",
            "Epoch 49/100\n",
            "135/135 [==============================] - 4s 32ms/step - loss: 0.0802 - accuracy: 0.9572 - val_loss: 0.2069 - val_accuracy: 0.9603\n",
            "Epoch 50/100\n",
            "135/135 [==============================] - 4s 31ms/step - loss: 0.0833 - accuracy: 0.9549 - val_loss: 0.1936 - val_accuracy: 0.9541\n",
            "Epoch 51/100\n",
            "135/135 [==============================] - 4s 31ms/step - loss: 0.0806 - accuracy: 0.9575 - val_loss: 0.1892 - val_accuracy: 0.9436\n",
            "Epoch 52/100\n",
            "135/135 [==============================] - 4s 32ms/step - loss: 0.0796 - accuracy: 0.9605 - val_loss: 0.1930 - val_accuracy: 0.9395\n",
            "Epoch 53/100\n",
            "135/135 [==============================] - 4s 32ms/step - loss: 0.0796 - accuracy: 0.9596 - val_loss: 0.2470 - val_accuracy: 0.9541\n",
            "Epoch 54/100\n",
            "135/135 [==============================] - 4s 32ms/step - loss: 0.0779 - accuracy: 0.9628 - val_loss: 0.2034 - val_accuracy: 0.9520\n",
            "Epoch 55/100\n",
            "135/135 [==============================] - 4s 31ms/step - loss: 0.0822 - accuracy: 0.9624 - val_loss: 0.1637 - val_accuracy: 0.9499\n",
            "Epoch 56/100\n",
            "135/135 [==============================] - 4s 32ms/step - loss: 0.0874 - accuracy: 0.9568 - val_loss: 0.1692 - val_accuracy: 0.9541\n",
            "Epoch 57/100\n",
            "135/135 [==============================] - 4s 32ms/step - loss: 0.0757 - accuracy: 0.9598 - val_loss: 0.2227 - val_accuracy: 0.9520\n",
            "Epoch 58/100\n",
            "135/135 [==============================] - 4s 31ms/step - loss: 0.0806 - accuracy: 0.9591 - val_loss: 0.2117 - val_accuracy: 0.9478\n",
            "Epoch 59/100\n",
            "135/135 [==============================] - 4s 32ms/step - loss: 0.0834 - accuracy: 0.9582 - val_loss: 0.2147 - val_accuracy: 0.9415\n",
            "Epoch 60/100\n",
            "135/135 [==============================] - 4s 32ms/step - loss: 0.0805 - accuracy: 0.9603 - val_loss: 0.2376 - val_accuracy: 0.9436\n",
            "Epoch 61/100\n",
            "135/135 [==============================] - 4s 31ms/step - loss: 0.0848 - accuracy: 0.9561 - val_loss: 0.1910 - val_accuracy: 0.9436\n",
            "Epoch 62/100\n",
            "135/135 [==============================] - 4s 31ms/step - loss: 0.0787 - accuracy: 0.9638 - val_loss: 0.1955 - val_accuracy: 0.9436\n",
            "Epoch 63/100\n",
            "135/135 [==============================] - 4s 31ms/step - loss: 0.0781 - accuracy: 0.9617 - val_loss: 0.2313 - val_accuracy: 0.9541\n",
            "Epoch 64/100\n",
            "135/135 [==============================] - 4s 32ms/step - loss: 0.0738 - accuracy: 0.9610 - val_loss: 0.2590 - val_accuracy: 0.9520\n",
            "Epoch 65/100\n",
            "135/135 [==============================] - 4s 31ms/step - loss: 0.0809 - accuracy: 0.9563 - val_loss: 0.2676 - val_accuracy: 0.9562\n",
            "Epoch 66/100\n",
            "135/135 [==============================] - 4s 32ms/step - loss: 0.0845 - accuracy: 0.9566 - val_loss: 0.2696 - val_accuracy: 0.9499\n",
            "Epoch 67/100\n",
            "135/135 [==============================] - 4s 32ms/step - loss: 0.0768 - accuracy: 0.9600 - val_loss: 0.3254 - val_accuracy: 0.9520\n",
            "Epoch 68/100\n",
            "135/135 [==============================] - 4s 32ms/step - loss: 0.0807 - accuracy: 0.9605 - val_loss: 0.2763 - val_accuracy: 0.9520\n",
            "Epoch 69/100\n",
            "135/135 [==============================] - 4s 32ms/step - loss: 0.0810 - accuracy: 0.9577 - val_loss: 0.2701 - val_accuracy: 0.9541\n",
            "Epoch 70/100\n",
            "135/135 [==============================] - 4s 32ms/step - loss: 0.0782 - accuracy: 0.9614 - val_loss: 0.2621 - val_accuracy: 0.9603\n",
            "Epoch 71/100\n",
            "135/135 [==============================] - 4s 32ms/step - loss: 0.0787 - accuracy: 0.9605 - val_loss: 0.2579 - val_accuracy: 0.9520\n",
            "Epoch 72/100\n",
            "135/135 [==============================] - 4s 31ms/step - loss: 0.0825 - accuracy: 0.9593 - val_loss: 0.2386 - val_accuracy: 0.9541\n",
            "Epoch 73/100\n",
            "135/135 [==============================] - 4s 32ms/step - loss: 0.0759 - accuracy: 0.9586 - val_loss: 0.2812 - val_accuracy: 0.9562\n",
            "Epoch 74/100\n",
            "135/135 [==============================] - 4s 32ms/step - loss: 0.0779 - accuracy: 0.9631 - val_loss: 0.2311 - val_accuracy: 0.9499\n",
            "Epoch 75/100\n",
            "135/135 [==============================] - 4s 32ms/step - loss: 0.0840 - accuracy: 0.9540 - val_loss: 0.2016 - val_accuracy: 0.9520\n",
            "Epoch 76/100\n",
            "135/135 [==============================] - 4s 32ms/step - loss: 0.0873 - accuracy: 0.9561 - val_loss: 0.1920 - val_accuracy: 0.9457\n",
            "Epoch 77/100\n",
            "135/135 [==============================] - 4s 32ms/step - loss: 0.0813 - accuracy: 0.9549 - val_loss: 0.2247 - val_accuracy: 0.9478\n",
            "Epoch 78/100\n",
            "135/135 [==============================] - 4s 32ms/step - loss: 0.0802 - accuracy: 0.9619 - val_loss: 0.2555 - val_accuracy: 0.9478\n",
            "Epoch 79/100\n",
            "135/135 [==============================] - 4s 32ms/step - loss: 0.0798 - accuracy: 0.9589 - val_loss: 0.3744 - val_accuracy: 0.9311\n",
            "Epoch 80/100\n",
            "135/135 [==============================] - 4s 32ms/step - loss: 0.0827 - accuracy: 0.9552 - val_loss: 0.2169 - val_accuracy: 0.9457\n",
            "Epoch 81/100\n",
            "135/135 [==============================] - 4s 32ms/step - loss: 0.0816 - accuracy: 0.9589 - val_loss: 0.2874 - val_accuracy: 0.9415\n",
            "Epoch 82/100\n",
            "135/135 [==============================] - 4s 32ms/step - loss: 0.0860 - accuracy: 0.9591 - val_loss: 0.1876 - val_accuracy: 0.9436\n",
            "Epoch 83/100\n",
            "135/135 [==============================] - 4s 31ms/step - loss: 0.0773 - accuracy: 0.9624 - val_loss: 0.2253 - val_accuracy: 0.9520\n",
            "Epoch 84/100\n",
            "135/135 [==============================] - 4s 31ms/step - loss: 0.0815 - accuracy: 0.9579 - val_loss: 0.2024 - val_accuracy: 0.9520\n",
            "Epoch 85/100\n",
            "135/135 [==============================] - 4s 31ms/step - loss: 0.0821 - accuracy: 0.9584 - val_loss: 0.2514 - val_accuracy: 0.9332\n",
            "Epoch 86/100\n",
            "135/135 [==============================] - 4s 32ms/step - loss: 0.0866 - accuracy: 0.9568 - val_loss: 0.2098 - val_accuracy: 0.9395\n",
            "Epoch 87/100\n",
            "135/135 [==============================] - 4s 31ms/step - loss: 0.0805 - accuracy: 0.9589 - val_loss: 0.2595 - val_accuracy: 0.9415\n",
            "Epoch 88/100\n",
            "135/135 [==============================] - 4s 32ms/step - loss: 0.0771 - accuracy: 0.9603 - val_loss: 0.1950 - val_accuracy: 0.9478\n",
            "Epoch 89/100\n",
            "135/135 [==============================] - 4s 32ms/step - loss: 0.0759 - accuracy: 0.9584 - val_loss: 0.1959 - val_accuracy: 0.9520\n",
            "Epoch 90/100\n",
            "135/135 [==============================] - 4s 32ms/step - loss: 0.0803 - accuracy: 0.9596 - val_loss: 0.1636 - val_accuracy: 0.9374\n",
            "Epoch 91/100\n",
            "135/135 [==============================] - 4s 32ms/step - loss: 0.0779 - accuracy: 0.9610 - val_loss: 0.2085 - val_accuracy: 0.9457\n",
            "Epoch 92/100\n",
            "135/135 [==============================] - 4s 32ms/step - loss: 0.0768 - accuracy: 0.9617 - val_loss: 0.2214 - val_accuracy: 0.9415\n",
            "Epoch 93/100\n",
            "135/135 [==============================] - 4s 32ms/step - loss: 0.0778 - accuracy: 0.9617 - val_loss: 0.2143 - val_accuracy: 0.9436\n",
            "Epoch 94/100\n",
            "135/135 [==============================] - 4s 32ms/step - loss: 0.0780 - accuracy: 0.9586 - val_loss: 0.1963 - val_accuracy: 0.9457\n",
            "Epoch 95/100\n",
            "135/135 [==============================] - 4s 32ms/step - loss: 0.0888 - accuracy: 0.9591 - val_loss: 0.2104 - val_accuracy: 0.9415\n",
            "Epoch 96/100\n",
            "135/135 [==============================] - 4s 32ms/step - loss: 0.0814 - accuracy: 0.9614 - val_loss: 0.2650 - val_accuracy: 0.9374\n",
            "Epoch 97/100\n",
            "135/135 [==============================] - 4s 32ms/step - loss: 0.0836 - accuracy: 0.9572 - val_loss: 0.2061 - val_accuracy: 0.9374\n",
            "Epoch 98/100\n",
            "135/135 [==============================] - 4s 32ms/step - loss: 0.0825 - accuracy: 0.9556 - val_loss: 0.2372 - val_accuracy: 0.9436\n",
            "Epoch 99/100\n",
            "135/135 [==============================] - 4s 32ms/step - loss: 0.0789 - accuracy: 0.9561 - val_loss: 0.2624 - val_accuracy: 0.9395\n",
            "Epoch 100/100\n",
            "135/135 [==============================] - 4s 32ms/step - loss: 0.0862 - accuracy: 0.9582 - val_loss: 0.1862 - val_accuracy: 0.9374\n"
          ]
        }
      ]
    },
    {
      "cell_type": "code",
      "metadata": {
        "id": "kSe2fgOXj3yJ"
      },
      "source": [
        "classifier.save(\"lnk_class_weight.h5\")"
      ],
      "execution_count": null,
      "outputs": []
    },
    {
      "cell_type": "code",
      "metadata": {
        "id": "_AZJUW9YjGff"
      },
      "source": [
        "Y_pred =classifier.predict(x_test_t)"
      ],
      "execution_count": null,
      "outputs": []
    },
    {
      "cell_type": "code",
      "metadata": {
        "colab": {
          "base_uri": "https://localhost:8080/"
        },
        "id": "8mYjHmSykA07",
        "outputId": "6f32b245-a281-4ba4-85c1-4c0019307b89"
      },
      "source": [
        "Y_pred=Y_pred.round()\n",
        "Y_pred"
      ],
      "execution_count": null,
      "outputs": [
        {
          "output_type": "execute_result",
          "data": {
            "text/plain": [
              "array([[0.],\n",
              "       [1.],\n",
              "       [0.],\n",
              "       ...,\n",
              "       [0.],\n",
              "       [1.],\n",
              "       [0.]], dtype=float32)"
            ]
          },
          "metadata": {},
          "execution_count": 32
        }
      ]
    },
    {
      "cell_type": "code",
      "metadata": {
        "id": "aOfPnZnqlGXw"
      },
      "source": [
        ""
      ],
      "execution_count": null,
      "outputs": []
    },
    {
      "cell_type": "code",
      "metadata": {
        "id": "4NFE03L9kEyB"
      },
      "source": [
        "from sklearn.metrics import accuracy_score"
      ],
      "execution_count": null,
      "outputs": []
    },
    {
      "cell_type": "code",
      "metadata": {
        "colab": {
          "base_uri": "https://localhost:8080/"
        },
        "id": "4CEuKkH_kE92",
        "outputId": "014f204c-cd16-4965-a114-66f0b56c7b05"
      },
      "source": [
        "print(accuracy_score( y_test_t,Y_pred))"
      ],
      "execution_count": null,
      "outputs": [
        {
          "output_type": "stream",
          "name": "stdout",
          "text": [
            "0.8341111582520153\n"
          ]
        }
      ]
    },
    {
      "cell_type": "code",
      "metadata": {
        "id": "srofwJVyuCSF"
      },
      "source": [
        "pd_y_predict=pd.DataFrame(Y_pred)"
      ],
      "execution_count": null,
      "outputs": []
    },
    {
      "cell_type": "code",
      "metadata": {
        "id": "BpymwYQfk6-H"
      },
      "source": [
        "pd_y_predict.to_csv(\"predicted_values.csv\",index=False)"
      ],
      "execution_count": null,
      "outputs": []
    },
    {
      "cell_type": "code",
      "metadata": {
        "colab": {
          "base_uri": "https://localhost:8080/",
          "height": 865
        },
        "id": "0apiiy9C9jln",
        "outputId": "4b29da35-5140-4552-c480-1fb9a6a88bc5"
      },
      "source": [
        "from keras.utils.vis_utils import plot_model\n",
        "plot_model(classifier, to_file='model_plot.png', show_shapes=True, show_layer_names=True)"
      ],
      "execution_count": null,
      "outputs": [
        {
          "output_type": "execute_result",
          "data": {
            "image/png": "[encoded data removed]",
            "text/plain": [
              "<IPython.core.display.Image object>"
            ]
          },
          "metadata": {},
          "execution_count": 37
        }
      ]
    },
    {
      "cell_type": "code",
      "metadata": {
        "colab": {
          "base_uri": "https://localhost:8080/",
          "height": 295
        },
        "id": "FNlm6zBn9xLN",
        "outputId": "f27b53ee-27a0-495c-c814-2d8c4121dd74"
      },
      "source": [
        "import matplotlib.pyplot as plt\n",
        "plt.plot(history.history['accuracy'])\n",
        "plt.plot(history.history['val_accuracy'])\n",
        "plt.title('model accuracy')\n",
        "plt.ylabel('accuracy')\n",
        "plt.xlabel('epoch')\n",
        "plt.legend(['train', 'test'], loc='upper left')\n",
        "plt.show()"
      ],
      "execution_count": null,
      "outputs": [
        {
          "output_type": "display_data",
          "data": {
            "image/png": "[encoded data removed]",
            "text/plain": [
              "<Figure size 432x288 with 1 Axes>"
            ]
          },
          "metadata": {
            "needs_background": "light"
          }
        }
      ]
    }
  ]
}